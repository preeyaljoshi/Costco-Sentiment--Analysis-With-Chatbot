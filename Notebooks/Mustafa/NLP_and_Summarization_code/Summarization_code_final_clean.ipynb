{
 "cells": [
  {
   "cell_type": "code",
   "execution_count": null,
   "id": "c410c3fc-5914-4fdc-8fef-99312ee7de50",
   "metadata": {
    "id": "c410c3fc-5914-4fdc-8fef-99312ee7de50"
   },
   "outputs": [],
   "source": [
    "# import libraries\n",
    "import nltk"
   ]
  },
  {
   "cell_type": "code",
   "execution_count": null,
   "id": "6UgaQPTWbru0",
   "metadata": {
    "colab": {
     "base_uri": "https://localhost:8080/"
    },
    "id": "6UgaQPTWbru0",
    "outputId": "3ae52436-e334-4420-c43d-c1030a8b7699"
   },
   "outputs": [
    {
     "name": "stdout",
     "output_type": "stream",
     "text": [
      "Collecting pyspellchecker\n",
      "  Downloading pyspellchecker-0.8.2-py3-none-any.whl.metadata (9.4 kB)\n",
      "Downloading pyspellchecker-0.8.2-py3-none-any.whl (7.1 MB)\n",
      "\u001b[2K   \u001b[90m━━━━━━━━━━━━━━━━━━━━━━━━━━━━━━━━━━━━━━━━\u001b[0m \u001b[32m7.1/7.1 MB\u001b[0m \u001b[31m57.0 MB/s\u001b[0m eta \u001b[36m0:00:00\u001b[0m\n",
      "\u001b[?25hInstalling collected packages: pyspellchecker\n",
      "Successfully installed pyspellchecker-0.8.2\n",
      "Collecting swifter\n",
      "  Downloading swifter-1.4.0.tar.gz (1.2 MB)\n",
      "\u001b[2K     \u001b[90m━━━━━━━━━━━━━━━━━━━━━━━━━━━━━━━━━━━━━━━━\u001b[0m \u001b[32m1.2/1.2 MB\u001b[0m \u001b[31m17.8 MB/s\u001b[0m eta \u001b[36m0:00:00\u001b[0m\n",
      "\u001b[?25h  Preparing metadata (setup.py) ... \u001b[?25l\u001b[?25hdone\n",
      "Requirement already satisfied: pandas>=1.0.0 in /usr/local/lib/python3.11/dist-packages (from swifter) (2.2.2)\n",
      "Requirement already satisfied: psutil>=5.6.6 in /usr/local/lib/python3.11/dist-packages (from swifter) (5.9.5)\n",
      "Requirement already satisfied: dask>=2.10.0 in /usr/local/lib/python3.11/dist-packages (from dask[dataframe]>=2.10.0->swifter) (2024.12.1)\n",
      "Requirement already satisfied: tqdm>=4.33.0 in /usr/local/lib/python3.11/dist-packages (from swifter) (4.67.1)\n",
      "Requirement already satisfied: click>=8.1 in /usr/local/lib/python3.11/dist-packages (from dask>=2.10.0->dask[dataframe]>=2.10.0->swifter) (8.1.8)\n",
      "Requirement already satisfied: cloudpickle>=3.0.0 in /usr/local/lib/python3.11/dist-packages (from dask>=2.10.0->dask[dataframe]>=2.10.0->swifter) (3.1.1)\n",
      "Requirement already satisfied: fsspec>=2021.09.0 in /usr/local/lib/python3.11/dist-packages (from dask>=2.10.0->dask[dataframe]>=2.10.0->swifter) (2025.3.2)\n",
      "Requirement already satisfied: packaging>=20.0 in /usr/local/lib/python3.11/dist-packages (from dask>=2.10.0->dask[dataframe]>=2.10.0->swifter) (24.2)\n",
      "Requirement already satisfied: partd>=1.4.0 in /usr/local/lib/python3.11/dist-packages (from dask>=2.10.0->dask[dataframe]>=2.10.0->swifter) (1.4.2)\n",
      "Requirement already satisfied: pyyaml>=5.3.1 in /usr/local/lib/python3.11/dist-packages (from dask>=2.10.0->dask[dataframe]>=2.10.0->swifter) (6.0.2)\n",
      "Requirement already satisfied: toolz>=0.10.0 in /usr/local/lib/python3.11/dist-packages (from dask>=2.10.0->dask[dataframe]>=2.10.0->swifter) (0.12.1)\n",
      "Requirement already satisfied: importlib_metadata>=4.13.0 in /usr/local/lib/python3.11/dist-packages (from dask>=2.10.0->dask[dataframe]>=2.10.0->swifter) (8.7.0)\n",
      "Requirement already satisfied: dask-expr<1.2,>=1.1 in /usr/local/lib/python3.11/dist-packages (from dask[dataframe]>=2.10.0->swifter) (1.1.21)\n",
      "Requirement already satisfied: numpy>=1.23.2 in /usr/local/lib/python3.11/dist-packages (from pandas>=1.0.0->swifter) (2.0.2)\n",
      "Requirement already satisfied: python-dateutil>=2.8.2 in /usr/local/lib/python3.11/dist-packages (from pandas>=1.0.0->swifter) (2.9.0.post0)\n",
      "Requirement already satisfied: pytz>=2020.1 in /usr/local/lib/python3.11/dist-packages (from pandas>=1.0.0->swifter) (2025.2)\n",
      "Requirement already satisfied: tzdata>=2022.7 in /usr/local/lib/python3.11/dist-packages (from pandas>=1.0.0->swifter) (2025.2)\n",
      "Requirement already satisfied: pyarrow>=14.0.1 in /usr/local/lib/python3.11/dist-packages (from dask-expr<1.2,>=1.1->dask[dataframe]>=2.10.0->swifter) (18.1.0)\n",
      "Requirement already satisfied: zipp>=3.20 in /usr/local/lib/python3.11/dist-packages (from importlib_metadata>=4.13.0->dask>=2.10.0->dask[dataframe]>=2.10.0->swifter) (3.21.0)\n",
      "Requirement already satisfied: locket in /usr/local/lib/python3.11/dist-packages (from partd>=1.4.0->dask>=2.10.0->dask[dataframe]>=2.10.0->swifter) (1.0.0)\n",
      "Requirement already satisfied: six>=1.5 in /usr/local/lib/python3.11/dist-packages (from python-dateutil>=2.8.2->pandas>=1.0.0->swifter) (1.17.0)\n",
      "Building wheels for collected packages: swifter\n",
      "  Building wheel for swifter (setup.py) ... \u001b[?25l\u001b[?25hdone\n",
      "  Created wheel for swifter: filename=swifter-1.4.0-py3-none-any.whl size=16505 sha256=a5f219c86b7d68a18d576ab03de0fa3cbe23d067410d297cd630d1af5cf5cee9\n",
      "  Stored in directory: /root/.cache/pip/wheels/ef/7f/bd/9bed48f078f3ee1fa75e0b29b6e0335ce1cb03a38d3443b3a3\n",
      "Successfully built swifter\n",
      "Installing collected packages: swifter\n",
      "Successfully installed swifter-1.4.0\n"
     ]
    },
    {
     "name": "stderr",
     "output_type": "stream",
     "text": [
      "[nltk_data] Downloading package punkt to /root/nltk_data...\n",
      "[nltk_data]   Unzipping tokenizers/punkt.zip.\n",
      "[nltk_data] Downloading package punkt_tab to /root/nltk_data...\n",
      "[nltk_data]   Unzipping tokenizers/punkt_tab.zip.\n"
     ]
    },
    {
     "data": {
      "text/plain": [
       "True"
      ]
     },
     "execution_count": 2,
     "metadata": {},
     "output_type": "execute_result"
    }
   ],
   "source": [
    " !pip install pyspellchecker\n",
    "!pip install swifter\n",
    "nltk.download('punkt')\n",
    "nltk.download('punkt_tab')"
   ]
  },
  {
   "cell_type": "code",
   "execution_count": null,
   "id": "pXRHwURsb6zF",
   "metadata": {
    "colab": {
     "base_uri": "https://localhost:8080/"
    },
    "id": "pXRHwURsb6zF",
    "outputId": "6cf317ec-a71a-4da7-d8df-7133130ead92"
   },
   "outputs": [
    {
     "name": "stdout",
     "output_type": "stream",
     "text": [
      "Collecting emoji\n",
      "  Downloading emoji-2.14.1-py3-none-any.whl.metadata (5.7 kB)\n",
      "Downloading emoji-2.14.1-py3-none-any.whl (590 kB)\n",
      "\u001b[?25l   \u001b[90m━━━━━━━━━━━━━━━━━━━━━━━━━━━━━━━━━━━━━━━━\u001b[0m \u001b[32m0.0/590.6 kB\u001b[0m \u001b[31m?\u001b[0m eta \u001b[36m-:--:--\u001b[0m\r",
      "\u001b[2K   \u001b[91m━━━━━━━━━━━\u001b[0m\u001b[91m╸\u001b[0m\u001b[90m━━━━━━━━━━━━━━━━━━━━━━━━━━━━\u001b[0m \u001b[32m174.1/590.6 kB\u001b[0m \u001b[31m5.1 MB/s\u001b[0m eta \u001b[36m0:00:01\u001b[0m\r",
      "\u001b[2K   \u001b[90m━━━━━━━━━━━━━━━━━━━━━━━━━━━━━━━━━━━━━━━━\u001b[0m \u001b[32m590.6/590.6 kB\u001b[0m \u001b[31m8.8 MB/s\u001b[0m eta \u001b[36m0:00:00\u001b[0m\n",
      "\u001b[?25hInstalling collected packages: emoji\n",
      "Successfully installed emoji-2.14.1\n",
      "\u001b[33mWARNING: Skipping ace_tools as it is not installed.\u001b[0m\u001b[33m\n",
      "\u001b[0mCollecting ace_tools\n",
      "  Downloading ace_tools-0.0-py3-none-any.whl.metadata (300 bytes)\n",
      "Downloading ace_tools-0.0-py3-none-any.whl (1.1 kB)\n",
      "Installing collected packages: ace_tools\n",
      "Successfully installed ace_tools-0.0\n"
     ]
    }
   ],
   "source": [
    "!pip install emoji\n",
    "!pip uninstall ace_tools -y\n",
    "!pip install ace_tools --no-cache-dir"
   ]
  },
  {
   "cell_type": "code",
   "execution_count": null,
   "id": "16150c98-d95a-4c1a-828c-501a10783ebb",
   "metadata": {
    "id": "16150c98-d95a-4c1a-828c-501a10783ebb"
   },
   "outputs": [],
   "source": [
    "import re\n",
    "import pandas as pd\n",
    "from transformers import BertTokenizer\n",
    "from nltk.corpus import stopwords\n",
    "from nltk.stem import WordNetLemmatizer\n",
    "from transformers import BertTokenizer\n",
    "from spellchecker import SpellChecker\n",
    "from nltk.tokenize import word_tokenize\n",
    "spell = SpellChecker()\n",
    "import swifter\n",
    "import matplotlib.pyplot as plt\n",
    "import seaborn as sns\n",
    "from wordcloud import WordCloud, STOPWORDS\n",
    "import plotly.express as px\n",
    "import numpy as np\n",
    "import emoji\n",
    "from transformers import AutoTokenizer"
   ]
  },
  {
   "cell_type": "code",
   "execution_count": null,
   "id": "dtq8Q-z4c0iK",
   "metadata": {
    "colab": {
     "base_uri": "https://localhost:8080/"
    },
    "id": "dtq8Q-z4c0iK",
    "outputId": "4064bfa6-a346-40ed-e3b0-35f79dab35d0"
   },
   "outputs": [
    {
     "name": "stdout",
     "output_type": "stream",
     "text": [
      "Requirement already satisfied: transformers in /usr/local/lib/python3.11/dist-packages (4.51.3)\n",
      "Requirement already satisfied: filelock in /usr/local/lib/python3.11/dist-packages (from transformers) (3.18.0)\n",
      "Requirement already satisfied: huggingface-hub<1.0,>=0.30.0 in /usr/local/lib/python3.11/dist-packages (from transformers) (0.30.2)\n",
      "Requirement already satisfied: numpy>=1.17 in /usr/local/lib/python3.11/dist-packages (from transformers) (2.0.2)\n",
      "Requirement already satisfied: packaging>=20.0 in /usr/local/lib/python3.11/dist-packages (from transformers) (24.2)\n",
      "Requirement already satisfied: pyyaml>=5.1 in /usr/local/lib/python3.11/dist-packages (from transformers) (6.0.2)\n",
      "Requirement already satisfied: regex!=2019.12.17 in /usr/local/lib/python3.11/dist-packages (from transformers) (2024.11.6)\n",
      "Requirement already satisfied: requests in /usr/local/lib/python3.11/dist-packages (from transformers) (2.32.3)\n",
      "Requirement already satisfied: tokenizers<0.22,>=0.21 in /usr/local/lib/python3.11/dist-packages (from transformers) (0.21.1)\n",
      "Requirement already satisfied: safetensors>=0.4.3 in /usr/local/lib/python3.11/dist-packages (from transformers) (0.5.3)\n",
      "Requirement already satisfied: tqdm>=4.27 in /usr/local/lib/python3.11/dist-packages (from transformers) (4.67.1)\n",
      "Requirement already satisfied: fsspec>=2023.5.0 in /usr/local/lib/python3.11/dist-packages (from huggingface-hub<1.0,>=0.30.0->transformers) (2025.3.2)\n",
      "Requirement already satisfied: typing-extensions>=3.7.4.3 in /usr/local/lib/python3.11/dist-packages (from huggingface-hub<1.0,>=0.30.0->transformers) (4.13.2)\n",
      "Requirement already satisfied: charset-normalizer<4,>=2 in /usr/local/lib/python3.11/dist-packages (from requests->transformers) (3.4.1)\n",
      "Requirement already satisfied: idna<4,>=2.5 in /usr/local/lib/python3.11/dist-packages (from requests->transformers) (3.10)\n",
      "Requirement already satisfied: urllib3<3,>=1.21.1 in /usr/local/lib/python3.11/dist-packages (from requests->transformers) (2.4.0)\n",
      "Requirement already satisfied: certifi>=2017.4.17 in /usr/local/lib/python3.11/dist-packages (from requests->transformers) (2025.4.26)\n"
     ]
    }
   ],
   "source": [
    "!pip install transformers\n",
    "from transformers import pipeline\n",
    "from tqdm import tqdm"
   ]
  },
  {
   "cell_type": "code",
   "execution_count": null,
   "id": "zGTDodvKSWNZ",
   "metadata": {
    "colab": {
     "base_uri": "https://localhost:8080/",
     "height": 603
    },
    "id": "zGTDodvKSWNZ",
    "outputId": "c88519f2-02e8-4bfc-fbe2-dcdb8d6e2222"
   },
   "outputs": [
    {
     "data": {
      "application/vnd.google.colaboratory.intrinsic+json": {
       "type": "dataframe",
       "variable_name": "dataframe"
      },
      "text/html": [
       "\n",
       "  <div id=\"df-0b983a40-c165-4eda-afd7-3b9a2e07b0e6\" class=\"colab-df-container\">\n",
       "    <div>\n",
       "<style scoped>\n",
       "    .dataframe tbody tr th:only-of-type {\n",
       "        vertical-align: middle;\n",
       "    }\n",
       "\n",
       "    .dataframe tbody tr th {\n",
       "        vertical-align: top;\n",
       "    }\n",
       "\n",
       "    .dataframe thead th {\n",
       "        text-align: right;\n",
       "    }\n",
       "</style>\n",
       "<table border=\"1\" class=\"dataframe\">\n",
       "  <thead>\n",
       "    <tr style=\"text-align: right;\">\n",
       "      <th></th>\n",
       "      <th>comment_likes</th>\n",
       "      <th>short_code</th>\n",
       "      <th>productName</th>\n",
       "      <th>productLikes</th>\n",
       "      <th>productUrl</th>\n",
       "      <th>comment_body</th>\n",
       "      <th>title</th>\n",
       "      <th>comment_year</th>\n",
       "      <th>comment_month</th>\n",
       "      <th>category</th>\n",
       "      <th>...</th>\n",
       "      <th>vader_compound_score_model2</th>\n",
       "      <th>vader_neg_score_model2</th>\n",
       "      <th>vader_neu_score_model2</th>\n",
       "      <th>vader_pos_score_model2</th>\n",
       "      <th>vader_sentiment_class_model2</th>\n",
       "      <th>sentiment_twitter_roberta</th>\n",
       "      <th>sentiment_score_twitter_roberta</th>\n",
       "      <th>negative_score_twitter_roberta</th>\n",
       "      <th>neutral_score_twitter_roberta</th>\n",
       "      <th>positive_score_twitter_roberta</th>\n",
       "    </tr>\n",
       "  </thead>\n",
       "  <tbody>\n",
       "    <tr>\n",
       "      <th>0</th>\n",
       "      <td>59</td>\n",
       "      <td>4000270696</td>\n",
       "      <td>LG 77\" Class - OLED B4 Series - 4K UHD OLED TV...</td>\n",
       "      <td>98</td>\n",
       "      <td>https://www.costco.com/lg-77-class---oled-b4-s...</td>\n",
       "      <td>the picture is beautiful . four stars because ...</td>\n",
       "      <td>Great picture, slow Ethernet, good wifi</td>\n",
       "      <td>2024</td>\n",
       "      <td>12</td>\n",
       "      <td>Product</td>\n",
       "      <td>...</td>\n",
       "      <td>-0.2706</td>\n",
       "      <td>0.046</td>\n",
       "      <td>0.928</td>\n",
       "      <td>0.026</td>\n",
       "      <td>Negative</td>\n",
       "      <td>Neutral</td>\n",
       "      <td>0.439497</td>\n",
       "      <td>0.184263</td>\n",
       "      <td>0.439497</td>\n",
       "      <td>0.376240</td>\n",
       "    </tr>\n",
       "    <tr>\n",
       "      <th>1</th>\n",
       "      <td>3</td>\n",
       "      <td>4000270696</td>\n",
       "      <td>LG 77\" Class - OLED B4 Series - 4K UHD OLED TV...</td>\n",
       "      <td>98</td>\n",
       "      <td>https://www.costco.com/lg-77-class---oled-b4-s...</td>\n",
       "      <td>i recently upgraded to the la old 77 b4 , and ...</td>\n",
       "      <td>Stunning Picture Quality and Performance</td>\n",
       "      <td>2025</td>\n",
       "      <td>1</td>\n",
       "      <td>Product</td>\n",
       "      <td>...</td>\n",
       "      <td>0.9886</td>\n",
       "      <td>0.000</td>\n",
       "      <td>0.811</td>\n",
       "      <td>0.189</td>\n",
       "      <td>Positive</td>\n",
       "      <td>Positive</td>\n",
       "      <td>0.966512</td>\n",
       "      <td>0.003293</td>\n",
       "      <td>0.030196</td>\n",
       "      <td>0.966512</td>\n",
       "    </tr>\n",
       "    <tr>\n",
       "      <th>2</th>\n",
       "      <td>12</td>\n",
       "      <td>4000270696</td>\n",
       "      <td>LG 77\" Class - OLED B4 Series - 4K UHD OLED TV...</td>\n",
       "      <td>98</td>\n",
       "      <td>https://www.costco.com/lg-77-class---oled-b4-s...</td>\n",
       "      <td>great picture , but doesn't play well in with ...</td>\n",
       "      <td>Great picture OS app integration so so</td>\n",
       "      <td>2024</td>\n",
       "      <td>12</td>\n",
       "      <td>Product</td>\n",
       "      <td>...</td>\n",
       "      <td>0.4166</td>\n",
       "      <td>0.049</td>\n",
       "      <td>0.884</td>\n",
       "      <td>0.067</td>\n",
       "      <td>Positive</td>\n",
       "      <td>Neutral</td>\n",
       "      <td>0.435863</td>\n",
       "      <td>0.419206</td>\n",
       "      <td>0.435863</td>\n",
       "      <td>0.144931</td>\n",
       "    </tr>\n",
       "    <tr>\n",
       "      <th>3</th>\n",
       "      <td>8</td>\n",
       "      <td>4000270696</td>\n",
       "      <td>LG 77\" Class - OLED B4 Series - 4K UHD OLED TV...</td>\n",
       "      <td>98</td>\n",
       "      <td>https://www.costco.com/lg-77-class---oled-b4-s...</td>\n",
       "      <td>costco was great about honoring the warranty ,...</td>\n",
       "      <td>Love it when it's working right</td>\n",
       "      <td>2025</td>\n",
       "      <td>1</td>\n",
       "      <td>Product</td>\n",
       "      <td>...</td>\n",
       "      <td>0.5994</td>\n",
       "      <td>0.029</td>\n",
       "      <td>0.918</td>\n",
       "      <td>0.053</td>\n",
       "      <td>Positive</td>\n",
       "      <td>Negative</td>\n",
       "      <td>0.387129</td>\n",
       "      <td>0.387129</td>\n",
       "      <td>0.379409</td>\n",
       "      <td>0.233462</td>\n",
       "    </tr>\n",
       "    <tr>\n",
       "      <th>4</th>\n",
       "      <td>1</td>\n",
       "      <td>4000270696</td>\n",
       "      <td>LG 77\" Class - OLED B4 Series - 4K UHD OLED TV...</td>\n",
       "      <td>98</td>\n",
       "      <td>https://www.costco.com/lg-77-class---oled-b4-s...</td>\n",
       "      <td>sweet . great picture and relatively easy to i...</td>\n",
       "      <td>Sweet.</td>\n",
       "      <td>2025</td>\n",
       "      <td>1</td>\n",
       "      <td>Product</td>\n",
       "      <td>...</td>\n",
       "      <td>0.8119</td>\n",
       "      <td>0.000</td>\n",
       "      <td>0.886</td>\n",
       "      <td>0.114</td>\n",
       "      <td>Positive</td>\n",
       "      <td>Positive</td>\n",
       "      <td>0.718953</td>\n",
       "      <td>0.047756</td>\n",
       "      <td>0.233291</td>\n",
       "      <td>0.718953</td>\n",
       "    </tr>\n",
       "  </tbody>\n",
       "</table>\n",
       "<p>5 rows × 26 columns</p>\n",
       "</div>\n",
       "    <div class=\"colab-df-buttons\">\n",
       "\n",
       "  <div class=\"colab-df-container\">\n",
       "    <button class=\"colab-df-convert\" onclick=\"convertToInteractive('df-0b983a40-c165-4eda-afd7-3b9a2e07b0e6')\"\n",
       "            title=\"Convert this dataframe to an interactive table.\"\n",
       "            style=\"display:none;\">\n",
       "\n",
       "  <svg xmlns=\"http://www.w3.org/2000/svg\" height=\"24px\" viewBox=\"0 -960 960 960\">\n",
       "    <path d=\"M120-120v-720h720v720H120Zm60-500h600v-160H180v160Zm220 220h160v-160H400v160Zm0 220h160v-160H400v160ZM180-400h160v-160H180v160Zm440 0h160v-160H620v160ZM180-180h160v-160H180v160Zm440 0h160v-160H620v160Z\"/>\n",
       "  </svg>\n",
       "    </button>\n",
       "\n",
       "  <style>\n",
       "    .colab-df-container {\n",
       "      display:flex;\n",
       "      gap: 12px;\n",
       "    }\n",
       "\n",
       "    .colab-df-convert {\n",
       "      background-color: #E8F0FE;\n",
       "      border: none;\n",
       "      border-radius: 50%;\n",
       "      cursor: pointer;\n",
       "      display: none;\n",
       "      fill: #1967D2;\n",
       "      height: 32px;\n",
       "      padding: 0 0 0 0;\n",
       "      width: 32px;\n",
       "    }\n",
       "\n",
       "    .colab-df-convert:hover {\n",
       "      background-color: #E2EBFA;\n",
       "      box-shadow: 0px 1px 2px rgba(60, 64, 67, 0.3), 0px 1px 3px 1px rgba(60, 64, 67, 0.15);\n",
       "      fill: #174EA6;\n",
       "    }\n",
       "\n",
       "    .colab-df-buttons div {\n",
       "      margin-bottom: 4px;\n",
       "    }\n",
       "\n",
       "    [theme=dark] .colab-df-convert {\n",
       "      background-color: #3B4455;\n",
       "      fill: #D2E3FC;\n",
       "    }\n",
       "\n",
       "    [theme=dark] .colab-df-convert:hover {\n",
       "      background-color: #434B5C;\n",
       "      box-shadow: 0px 1px 3px 1px rgba(0, 0, 0, 0.15);\n",
       "      filter: drop-shadow(0px 1px 2px rgba(0, 0, 0, 0.3));\n",
       "      fill: #FFFFFF;\n",
       "    }\n",
       "  </style>\n",
       "\n",
       "    <script>\n",
       "      const buttonEl =\n",
       "        document.querySelector('#df-0b983a40-c165-4eda-afd7-3b9a2e07b0e6 button.colab-df-convert');\n",
       "      buttonEl.style.display =\n",
       "        google.colab.kernel.accessAllowed ? 'block' : 'none';\n",
       "\n",
       "      async function convertToInteractive(key) {\n",
       "        const element = document.querySelector('#df-0b983a40-c165-4eda-afd7-3b9a2e07b0e6');\n",
       "        const dataTable =\n",
       "          await google.colab.kernel.invokeFunction('convertToInteractive',\n",
       "                                                    [key], {});\n",
       "        if (!dataTable) return;\n",
       "\n",
       "        const docLinkHtml = 'Like what you see? Visit the ' +\n",
       "          '<a target=\"_blank\" href=https://colab.research.google.com/notebooks/data_table.ipynb>data table notebook</a>'\n",
       "          + ' to learn more about interactive tables.';\n",
       "        element.innerHTML = '';\n",
       "        dataTable['output_type'] = 'display_data';\n",
       "        await google.colab.output.renderOutput(dataTable, element);\n",
       "        const docLink = document.createElement('div');\n",
       "        docLink.innerHTML = docLinkHtml;\n",
       "        element.appendChild(docLink);\n",
       "      }\n",
       "    </script>\n",
       "  </div>\n",
       "\n",
       "\n",
       "    <div id=\"df-81aed912-d9e5-46e3-b233-a4248529a368\">\n",
       "      <button class=\"colab-df-quickchart\" onclick=\"quickchart('df-81aed912-d9e5-46e3-b233-a4248529a368')\"\n",
       "                title=\"Suggest charts\"\n",
       "                style=\"display:none;\">\n",
       "\n",
       "<svg xmlns=\"http://www.w3.org/2000/svg\" height=\"24px\"viewBox=\"0 0 24 24\"\n",
       "     width=\"24px\">\n",
       "    <g>\n",
       "        <path d=\"M19 3H5c-1.1 0-2 .9-2 2v14c0 1.1.9 2 2 2h14c1.1 0 2-.9 2-2V5c0-1.1-.9-2-2-2zM9 17H7v-7h2v7zm4 0h-2V7h2v10zm4 0h-2v-4h2v4z\"/>\n",
       "    </g>\n",
       "</svg>\n",
       "      </button>\n",
       "\n",
       "<style>\n",
       "  .colab-df-quickchart {\n",
       "      --bg-color: #E8F0FE;\n",
       "      --fill-color: #1967D2;\n",
       "      --hover-bg-color: #E2EBFA;\n",
       "      --hover-fill-color: #174EA6;\n",
       "      --disabled-fill-color: #AAA;\n",
       "      --disabled-bg-color: #DDD;\n",
       "  }\n",
       "\n",
       "  [theme=dark] .colab-df-quickchart {\n",
       "      --bg-color: #3B4455;\n",
       "      --fill-color: #D2E3FC;\n",
       "      --hover-bg-color: #434B5C;\n",
       "      --hover-fill-color: #FFFFFF;\n",
       "      --disabled-bg-color: #3B4455;\n",
       "      --disabled-fill-color: #666;\n",
       "  }\n",
       "\n",
       "  .colab-df-quickchart {\n",
       "    background-color: var(--bg-color);\n",
       "    border: none;\n",
       "    border-radius: 50%;\n",
       "    cursor: pointer;\n",
       "    display: none;\n",
       "    fill: var(--fill-color);\n",
       "    height: 32px;\n",
       "    padding: 0;\n",
       "    width: 32px;\n",
       "  }\n",
       "\n",
       "  .colab-df-quickchart:hover {\n",
       "    background-color: var(--hover-bg-color);\n",
       "    box-shadow: 0 1px 2px rgba(60, 64, 67, 0.3), 0 1px 3px 1px rgba(60, 64, 67, 0.15);\n",
       "    fill: var(--button-hover-fill-color);\n",
       "  }\n",
       "\n",
       "  .colab-df-quickchart-complete:disabled,\n",
       "  .colab-df-quickchart-complete:disabled:hover {\n",
       "    background-color: var(--disabled-bg-color);\n",
       "    fill: var(--disabled-fill-color);\n",
       "    box-shadow: none;\n",
       "  }\n",
       "\n",
       "  .colab-df-spinner {\n",
       "    border: 2px solid var(--fill-color);\n",
       "    border-color: transparent;\n",
       "    border-bottom-color: var(--fill-color);\n",
       "    animation:\n",
       "      spin 1s steps(1) infinite;\n",
       "  }\n",
       "\n",
       "  @keyframes spin {\n",
       "    0% {\n",
       "      border-color: transparent;\n",
       "      border-bottom-color: var(--fill-color);\n",
       "      border-left-color: var(--fill-color);\n",
       "    }\n",
       "    20% {\n",
       "      border-color: transparent;\n",
       "      border-left-color: var(--fill-color);\n",
       "      border-top-color: var(--fill-color);\n",
       "    }\n",
       "    30% {\n",
       "      border-color: transparent;\n",
       "      border-left-color: var(--fill-color);\n",
       "      border-top-color: var(--fill-color);\n",
       "      border-right-color: var(--fill-color);\n",
       "    }\n",
       "    40% {\n",
       "      border-color: transparent;\n",
       "      border-right-color: var(--fill-color);\n",
       "      border-top-color: var(--fill-color);\n",
       "    }\n",
       "    60% {\n",
       "      border-color: transparent;\n",
       "      border-right-color: var(--fill-color);\n",
       "    }\n",
       "    80% {\n",
       "      border-color: transparent;\n",
       "      border-right-color: var(--fill-color);\n",
       "      border-bottom-color: var(--fill-color);\n",
       "    }\n",
       "    90% {\n",
       "      border-color: transparent;\n",
       "      border-bottom-color: var(--fill-color);\n",
       "    }\n",
       "  }\n",
       "</style>\n",
       "\n",
       "      <script>\n",
       "        async function quickchart(key) {\n",
       "          const quickchartButtonEl =\n",
       "            document.querySelector('#' + key + ' button');\n",
       "          quickchartButtonEl.disabled = true;  // To prevent multiple clicks.\n",
       "          quickchartButtonEl.classList.add('colab-df-spinner');\n",
       "          try {\n",
       "            const charts = await google.colab.kernel.invokeFunction(\n",
       "                'suggestCharts', [key], {});\n",
       "          } catch (error) {\n",
       "            console.error('Error during call to suggestCharts:', error);\n",
       "          }\n",
       "          quickchartButtonEl.classList.remove('colab-df-spinner');\n",
       "          quickchartButtonEl.classList.add('colab-df-quickchart-complete');\n",
       "        }\n",
       "        (() => {\n",
       "          let quickchartButtonEl =\n",
       "            document.querySelector('#df-81aed912-d9e5-46e3-b233-a4248529a368 button');\n",
       "          quickchartButtonEl.style.display =\n",
       "            google.colab.kernel.accessAllowed ? 'block' : 'none';\n",
       "        })();\n",
       "      </script>\n",
       "    </div>\n",
       "\n",
       "    </div>\n",
       "  </div>\n"
      ],
      "text/plain": [
       "   comment_likes  short_code  \\\n",
       "0             59  4000270696   \n",
       "1              3  4000270696   \n",
       "2             12  4000270696   \n",
       "3              8  4000270696   \n",
       "4              1  4000270696   \n",
       "\n",
       "                                         productName  productLikes  \\\n",
       "0  LG 77\" Class - OLED B4 Series - 4K UHD OLED TV...            98   \n",
       "1  LG 77\" Class - OLED B4 Series - 4K UHD OLED TV...            98   \n",
       "2  LG 77\" Class - OLED B4 Series - 4K UHD OLED TV...            98   \n",
       "3  LG 77\" Class - OLED B4 Series - 4K UHD OLED TV...            98   \n",
       "4  LG 77\" Class - OLED B4 Series - 4K UHD OLED TV...            98   \n",
       "\n",
       "                                          productUrl  \\\n",
       "0  https://www.costco.com/lg-77-class---oled-b4-s...   \n",
       "1  https://www.costco.com/lg-77-class---oled-b4-s...   \n",
       "2  https://www.costco.com/lg-77-class---oled-b4-s...   \n",
       "3  https://www.costco.com/lg-77-class---oled-b4-s...   \n",
       "4  https://www.costco.com/lg-77-class---oled-b4-s...   \n",
       "\n",
       "                                        comment_body  \\\n",
       "0  the picture is beautiful . four stars because ...   \n",
       "1  i recently upgraded to the la old 77 b4 , and ...   \n",
       "2  great picture , but doesn't play well in with ...   \n",
       "3  costco was great about honoring the warranty ,...   \n",
       "4  sweet . great picture and relatively easy to i...   \n",
       "\n",
       "                                      title  comment_year  comment_month  \\\n",
       "0   Great picture, slow Ethernet, good wifi          2024             12   \n",
       "1  Stunning Picture Quality and Performance          2025              1   \n",
       "2    Great picture OS app integration so so          2024             12   \n",
       "3           Love it when it's working right          2025              1   \n",
       "4                                    Sweet.          2025              1   \n",
       "\n",
       "  category  ... vader_compound_score_model2 vader_neg_score_model2  \\\n",
       "0  Product  ...                     -0.2706                  0.046   \n",
       "1  Product  ...                      0.9886                  0.000   \n",
       "2  Product  ...                      0.4166                  0.049   \n",
       "3  Product  ...                      0.5994                  0.029   \n",
       "4  Product  ...                      0.8119                  0.000   \n",
       "\n",
       "  vader_neu_score_model2 vader_pos_score_model2 vader_sentiment_class_model2  \\\n",
       "0                  0.928                  0.026                     Negative   \n",
       "1                  0.811                  0.189                     Positive   \n",
       "2                  0.884                  0.067                     Positive   \n",
       "3                  0.918                  0.053                     Positive   \n",
       "4                  0.886                  0.114                     Positive   \n",
       "\n",
       "  sentiment_twitter_roberta  sentiment_score_twitter_roberta  \\\n",
       "0                   Neutral                         0.439497   \n",
       "1                  Positive                         0.966512   \n",
       "2                   Neutral                         0.435863   \n",
       "3                  Negative                         0.387129   \n",
       "4                  Positive                         0.718953   \n",
       "\n",
       "   negative_score_twitter_roberta  neutral_score_twitter_roberta  \\\n",
       "0                        0.184263                       0.439497   \n",
       "1                        0.003293                       0.030196   \n",
       "2                        0.419206                       0.435863   \n",
       "3                        0.387129                       0.379409   \n",
       "4                        0.047756                       0.233291   \n",
       "\n",
       "   positive_score_twitter_roberta  \n",
       "0                        0.376240  \n",
       "1                        0.966512  \n",
       "2                        0.144931  \n",
       "3                        0.233462  \n",
       "4                        0.718953  \n",
       "\n",
       "[5 rows x 26 columns]"
      ]
     },
     "execution_count": 6,
     "metadata": {},
     "output_type": "execute_result"
    }
   ],
   "source": [
    "file_path = \"/content/Final_Sentiment_Results_Costco.csv\"\n",
    "# file_path = \"./Final_Sentiment_Results_Costco.csv\"\n",
    "\n",
    "# Load the dataset\n",
    "dataframe = pd.read_csv(file_path)\n",
    "\n",
    "# Display basic information\n",
    "dataframe.head()"
   ]
  },
  {
   "cell_type": "code",
   "execution_count": null,
   "id": "Mzndvav8SWKT",
   "metadata": {
    "colab": {
     "base_uri": "https://localhost:8080/",
     "height": 316,
     "referenced_widgets": [
      "1bb2cd56ebd842bd9325dceadd51f072",
      "7d09d6767cb048edaaf515934037b5c0",
      "e4472c372f7e427aa29d6f8df5db8353",
      "08f079f4d6ed4254ad7091a9d1d51e53",
      "28990c735aaf427e95bfff663ffe0a44",
      "3fcbc32dc56a4c6a81db643bd70deb5f",
      "8438525e95e94a1ea7f617da4edff0e7",
      "22a42ae68b4f4448aa4ed468bd647e25",
      "a10a469c78f746368466432fb3c21232",
      "f140febe29b547b89a2b7adb10ab3070",
      "b3ff218be6d84317947ef9a5ca26e697",
      "d2b8601975784720959117ee2f926cc9",
      "44e5c540f38d437382336d722ddf92a4",
      "261c4b18453e44e1865c7d258e97c72a",
      "015318f2e4854736ab0c5e2a15ad9e98",
      "90c999adc08e4e97915380cbb4279226",
      "d7433b0ecb37466b8270ec495c8e1371",
      "8e15035566794b4f92c124f97c1aec90",
      "d7de1c6a7b624eaa9d3527d5473d5790",
      "63cd13700bc34181a6ac9b932ac30337",
      "53826d3d954a42ef86ffcea11cf5c67a",
      "c2cff58aaaf4431fafbbe8620d27a886",
      "8458d9da9858442295083ab29e582916",
      "a89f2b365e114991ae410c180ceafc97",
      "6bd72d3f10994bf388b28e82a778ff57",
      "107d56fc40494af68385b24f89a0baf6",
      "d0874c31c49a4a169651299a936d3fd4",
      "5a5b03e5a4ee419282ce8c7a0c5154ed",
      "30ec5e45e93e4778a590cb4d325869d3",
      "e5d715aa4a6643119243ccf9c702f9a1",
      "b436b1f3479b48008277ad6d0740f86c",
      "cf7a7028f03b40709d0d15c64700fa10",
      "a244fc6dcd2c4cdfa77a91d83bc70ee6",
      "6712351c8a974d09a18537bb92e8a1ec",
      "078ee85f905949a1bf3766870174a5fb",
      "b3a56ca457a849979d0637b27665c14e",
      "1594c9547d86432cae6fdec53734f61d",
      "114d87c3128d43f7a8203eb4d98f4e32",
      "eec676c495e3416bb2455229c205e38c",
      "55f18980518f4923890ea00a42e42509",
      "5c1d35f789d74afea4c2dd5dde45d0b9",
      "b6f964db2db140f18688468f5b86bfa3",
      "0bc54d3c57e2427e805db4d0eb422478",
      "73e7284cc4a64f47a78a2265e3cd9abc",
      "1fd7b97ec06b44f68430e063fcd6265a",
      "509260912a9b4a89822aa240c0cdc1ca",
      "b5fc5803776f471f97fa8df8340ccf5e",
      "44a598ceb41d4add940f3e372cce3b07",
      "11268cfe7bc54a559d8289328b1e57e8",
      "25ca856f8b3d497b8a9afb5c0cba4d55",
      "43edcf0e75b8414fbefc0e0c598ad62e",
      "01fbcc414d16418c9e1672729f7e980a",
      "12ae6db85cf34955afabd1aef583a706",
      "33d13d283ccc4444932786f08fe1dd5f",
      "e206f61ea15a4647999e45834a674180"
     ]
    },
    "id": "Mzndvav8SWKT",
    "outputId": "51393bac-c2f0-412c-ff48-e4cd33bab2cb"
   },
   "outputs": [
    {
     "name": "stderr",
     "output_type": "stream",
     "text": [
      "/usr/local/lib/python3.11/dist-packages/huggingface_hub/utils/_auth.py:94: UserWarning: \n",
      "The secret `HF_TOKEN` does not exist in your Colab secrets.\n",
      "To authenticate with the Hugging Face Hub, create a token in your settings tab (https://huggingface.co/settings/tokens), set it as secret in your Google Colab and restart your session.\n",
      "You will be able to reuse this secret in all of your notebooks.\n",
      "Please note that authentication is recommended but still optional to access public models or datasets.\n",
      "  warnings.warn(\n"
     ]
    },
    {
     "data": {
      "application/vnd.jupyter.widget-view+json": {
       "model_id": "1bb2cd56ebd842bd9325dceadd51f072",
       "version_major": 2,
       "version_minor": 0
      },
      "text/plain": [
       "config.json:   0%|          | 0.00/571 [00:00<?, ?B/s]"
      ]
     },
     "metadata": {},
     "output_type": "display_data"
    },
    {
     "name": "stderr",
     "output_type": "stream",
     "text": [
      "Xet Storage is enabled for this repo, but the 'hf_xet' package is not installed. Falling back to regular HTTP download. For better performance, install the package with: `pip install huggingface_hub[hf_xet]` or `pip install hf_xet`\n",
      "WARNING:huggingface_hub.file_download:Xet Storage is enabled for this repo, but the 'hf_xet' package is not installed. Falling back to regular HTTP download. For better performance, install the package with: `pip install huggingface_hub[hf_xet]` or `pip install hf_xet`\n"
     ]
    },
    {
     "data": {
      "application/vnd.jupyter.widget-view+json": {
       "model_id": "d2b8601975784720959117ee2f926cc9",
       "version_major": 2,
       "version_minor": 0
      },
      "text/plain": [
       "model.safetensors:   0%|          | 0.00/1.34G [00:00<?, ?B/s]"
      ]
     },
     "metadata": {},
     "output_type": "display_data"
    },
    {
     "data": {
      "application/vnd.jupyter.widget-view+json": {
       "model_id": "8458d9da9858442295083ab29e582916",
       "version_major": 2,
       "version_minor": 0
      },
      "text/plain": [
       "tokenizer_config.json:   0%|          | 0.00/48.0 [00:00<?, ?B/s]"
      ]
     },
     "metadata": {},
     "output_type": "display_data"
    },
    {
     "data": {
      "application/vnd.jupyter.widget-view+json": {
       "model_id": "6712351c8a974d09a18537bb92e8a1ec",
       "version_major": 2,
       "version_minor": 0
      },
      "text/plain": [
       "vocab.txt:   0%|          | 0.00/232k [00:00<?, ?B/s]"
      ]
     },
     "metadata": {},
     "output_type": "display_data"
    },
    {
     "data": {
      "application/vnd.jupyter.widget-view+json": {
       "model_id": "1fd7b97ec06b44f68430e063fcd6265a",
       "version_major": 2,
       "version_minor": 0
      },
      "text/plain": [
       "tokenizer.json:   0%|          | 0.00/466k [00:00<?, ?B/s]"
      ]
     },
     "metadata": {},
     "output_type": "display_data"
    }
   ],
   "source": [
    "# Install required packages\n",
    "!pip install bert-extractive-summarizer transformers sentencepiece --quiet\n",
    "\n",
    "import pandas as pd\n",
    "import re\n",
    "from summarizer import Summarizer\n",
    "\n",
    "# Load the BERT-based extractive summarizer\n",
    "bert_model = Summarizer()\n",
    "\n",
    "# Clean text to remove non-ASCII characters and normalize whitespace\n",
    "def clean_text(text):\n",
    "    text = text.encode('ascii', 'ignore').decode('ascii')\n",
    "    text = re.sub(r'\\s+', ' ', text.strip())\n",
    "    return text\n",
    "\n",
    "# Summarization function with fallback to original text if summarization fails or returns empty\n",
    "def generate_extractive_summaries_force(text_series, max_words=300):\n",
    "    summaries = []\n",
    "    fixed_errors = 0\n",
    "\n",
    "    for text in text_series.fillna(\"\").astype(str):\n",
    "        original_text = text.strip()\n",
    "        summary = \"\"\n",
    "\n",
    "        try:\n",
    "            text = clean_text(original_text)\n",
    "\n",
    "            if len(text.split()) > max_words:\n",
    "                text = ' '.join(text.split()[:max_words])\n",
    "\n",
    "            summary = bert_model(text)\n",
    "            summary = clean_text(summary)\n",
    "\n",
    "        except Exception:\n",
    "            fixed_errors += 1\n",
    "            summary = \"\"\n",
    "\n",
    "        # Final fallback if summary is blank\n",
    "        if not summary.strip():\n",
    "            summary = clean_text(original_text)\n",
    "\n",
    "        summaries.append(summary)\n",
    "\n",
    "    return summaries, fixed_errors\n",
    "\n",
    "# Apply to entire DataFrame\n",
    "summaries, fixed_errors = generate_extractive_summaries_force(dataframe['comment_body'])\n",
    "dataframe['comment_summary'] = summaries"
   ]
  },
  {
   "cell_type": "code",
   "execution_count": null,
   "id": "9gyup2EFWzN7",
   "metadata": {
    "colab": {
     "base_uri": "https://localhost:8080/"
    },
    "id": "9gyup2EFWzN7",
    "outputId": "d90a2bfe-af27-4efb-b9de-1a3dbbd7fe58"
   },
   "outputs": [
    {
     "name": "stdout",
     "output_type": "stream",
     "text": [
      "Summarized all rows in dataframe. Fallbacks used due to errors or blank output: 0\n"
     ]
    }
   ],
   "source": [
    "# Print diagnostics\n",
    "print(f\"Summarized all rows in dataframe. Fallbacks used due to errors or blank output: {fixed_errors}\")"
   ]
  },
  {
   "cell_type": "code",
   "execution_count": null,
   "id": "Zy8oPY3ISWFQ",
   "metadata": {
    "id": "Zy8oPY3ISWFQ"
   },
   "outputs": [],
   "source": [
    "dataframe.to_csv('summarizedResultsLatestLast.csv', index=False)"
   ]
  },
  {
   "cell_type": "code",
   "execution_count": null,
   "id": "oNH8s5_9SWDZ",
   "metadata": {
    "colab": {
     "base_uri": "https://localhost:8080/",
     "height": 17
    },
    "id": "oNH8s5_9SWDZ",
    "outputId": "4dd33d7a-7c2f-4dbc-a7be-ced5a2e9dff5"
   },
   "outputs": [
    {
     "data": {
      "application/javascript": [
       "\n",
       "    async function download(id, filename, size) {\n",
       "      if (!google.colab.kernel.accessAllowed) {\n",
       "        return;\n",
       "      }\n",
       "      const div = document.createElement('div');\n",
       "      const label = document.createElement('label');\n",
       "      label.textContent = `Downloading \"${filename}\": `;\n",
       "      div.appendChild(label);\n",
       "      const progress = document.createElement('progress');\n",
       "      progress.max = size;\n",
       "      div.appendChild(progress);\n",
       "      document.body.appendChild(div);\n",
       "\n",
       "      const buffers = [];\n",
       "      let downloaded = 0;\n",
       "\n",
       "      const channel = await google.colab.kernel.comms.open(id);\n",
       "      // Send a message to notify the kernel that we're ready.\n",
       "      channel.send({})\n",
       "\n",
       "      for await (const message of channel.messages) {\n",
       "        // Send a message to notify the kernel that we're ready.\n",
       "        channel.send({})\n",
       "        if (message.buffers) {\n",
       "          for (const buffer of message.buffers) {\n",
       "            buffers.push(buffer);\n",
       "            downloaded += buffer.byteLength;\n",
       "            progress.value = downloaded;\n",
       "          }\n",
       "        }\n",
       "      }\n",
       "      const blob = new Blob(buffers, {type: 'application/binary'});\n",
       "      const a = document.createElement('a');\n",
       "      a.href = window.URL.createObjectURL(blob);\n",
       "      a.download = filename;\n",
       "      div.appendChild(a);\n",
       "      a.click();\n",
       "      div.remove();\n",
       "    }\n",
       "  "
      ],
      "text/plain": [
       "<IPython.core.display.Javascript object>"
      ]
     },
     "metadata": {},
     "output_type": "display_data"
    },
    {
     "data": {
      "application/javascript": [
       "download(\"download_8e39bfd7-fb2b-43cc-96ce-cd0a75cb776f\", \"summarizedResultsLatestLast.csv\", 107627980)"
      ],
      "text/plain": [
       "<IPython.core.display.Javascript object>"
      ]
     },
     "metadata": {},
     "output_type": "display_data"
    }
   ],
   "source": [
    "from google.colab import files\n",
    "files.download('summarizedResultsLatestLast.csv')"
   ]
  },
  {
   "cell_type": "code",
   "execution_count": null,
   "id": "6x-JxX4uVJ83",
   "metadata": {
    "id": "6x-JxX4uVJ83"
   },
   "outputs": [],
   "source": [
    "sample_df = dataframe.sample(n=20, random_state=42)"
   ]
  },
  {
   "cell_type": "code",
   "execution_count": null,
   "id": "iVoQ1K07VJ5w",
   "metadata": {
    "id": "iVoQ1K07VJ5w"
   },
   "outputs": [],
   "source": [
    "sample_df.to_csv('summarizedSampleLast.csv', index=False)"
   ]
  },
  {
   "cell_type": "code",
   "execution_count": null,
   "id": "NV_nARqbSWBW",
   "metadata": {
    "colab": {
     "base_uri": "https://localhost:8080/",
     "height": 17
    },
    "id": "NV_nARqbSWBW",
    "outputId": "f8861aab-6491-4927-df8a-e43167a26af8"
   },
   "outputs": [
    {
     "data": {
      "application/javascript": [
       "\n",
       "    async function download(id, filename, size) {\n",
       "      if (!google.colab.kernel.accessAllowed) {\n",
       "        return;\n",
       "      }\n",
       "      const div = document.createElement('div');\n",
       "      const label = document.createElement('label');\n",
       "      label.textContent = `Downloading \"${filename}\": `;\n",
       "      div.appendChild(label);\n",
       "      const progress = document.createElement('progress');\n",
       "      progress.max = size;\n",
       "      div.appendChild(progress);\n",
       "      document.body.appendChild(div);\n",
       "\n",
       "      const buffers = [];\n",
       "      let downloaded = 0;\n",
       "\n",
       "      const channel = await google.colab.kernel.comms.open(id);\n",
       "      // Send a message to notify the kernel that we're ready.\n",
       "      channel.send({})\n",
       "\n",
       "      for await (const message of channel.messages) {\n",
       "        // Send a message to notify the kernel that we're ready.\n",
       "        channel.send({})\n",
       "        if (message.buffers) {\n",
       "          for (const buffer of message.buffers) {\n",
       "            buffers.push(buffer);\n",
       "            downloaded += buffer.byteLength;\n",
       "            progress.value = downloaded;\n",
       "          }\n",
       "        }\n",
       "      }\n",
       "      const blob = new Blob(buffers, {type: 'application/binary'});\n",
       "      const a = document.createElement('a');\n",
       "      a.href = window.URL.createObjectURL(blob);\n",
       "      a.download = filename;\n",
       "      div.appendChild(a);\n",
       "      a.click();\n",
       "      div.remove();\n",
       "    }\n",
       "  "
      ],
      "text/plain": [
       "<IPython.core.display.Javascript object>"
      ]
     },
     "metadata": {},
     "output_type": "display_data"
    },
    {
     "data": {
      "application/javascript": [
       "download(\"download_d8a22003-1333-44bf-9485-dd8541f67371\", \"summarizedSampleLast.csv\", 18663)"
      ],
      "text/plain": [
       "<IPython.core.display.Javascript object>"
      ]
     },
     "metadata": {},
     "output_type": "display_data"
    }
   ],
   "source": [
    "from google.colab import files\n",
    "files.download('summarizedSampleLast.csv')"
   ]
  },
  {
   "cell_type": "code",
   "execution_count": null,
   "id": "go8tSkuWX4gx",
   "metadata": {
    "id": "go8tSkuWX4gx"
   },
   "outputs": [],
   "source": []
  }
 ],
 "metadata": {
  "accelerator": "GPU",
  "colab": {
   "gpuType": "A100",
   "machine_shape": "hm",
   "provenance": []
  },
  "kernelspec": {
   "display_name": "Python 3",
   "name": "python3"
  },
  "language_info": {
   "name": "python"
  }
 },
 "nbformat": 4,
 "nbformat_minor": 5
}
