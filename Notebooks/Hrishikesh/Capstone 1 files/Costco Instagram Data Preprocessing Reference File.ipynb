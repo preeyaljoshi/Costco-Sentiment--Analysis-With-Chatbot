{
 "cells": [
  {
   "cell_type": "code",
   "execution_count": null,
   "id": "912d2b15",
   "metadata": {},
   "outputs": [],
   "source": [
    "import pandas as pd\n",
    "import numpy as np\n",
    "import requests\n",
    "from PIL import Image\n",
    "from io import BytesIO"
   ]
  },
  {
   "cell_type": "markdown",
   "id": "bad3f1d0",
   "metadata": {},
   "source": [
    "# Costco Instagram data from Phatombuster"
   ]
  },
  {
   "cell_type": "code",
   "execution_count": null,
   "id": "e4fe16b4",
   "metadata": {},
   "outputs": [],
   "source": [
    "# Reading the data\n",
    "Data = pd.read_csv(\"C:\\\\Users\\\\hirshikesh\\\\Desktop\\\\Capstone Project\\\\Data\\\\merged_output.csv\")"
   ]
  },
  {
   "cell_type": "code",
   "execution_count": null,
   "id": "d8f903df",
   "metadata": {},
   "outputs": [],
   "source": [
    "Data.head(10)"
   ]
  },
  {
   "cell_type": "code",
   "execution_count": null,
   "id": "aa41077b",
   "metadata": {},
   "outputs": [],
   "source": [
    "# Columns in the Data\n",
    "list(Data.columns)"
   ]
  },
  {
   "cell_type": "code",
   "execution_count": null,
   "id": "2cf759a7",
   "metadata": {},
   "outputs": [],
   "source": [
    "pd.set_option('display.max_colwidth', 400)"
   ]
  },
  {
   "cell_type": "code",
   "execution_count": null,
   "id": "463b6c35",
   "metadata": {},
   "outputs": [],
   "source": [
    "# So, First, starting the cleanning process with getting rid of unnecessary columns\n",
    "# which are not relevant to sentiment analysis\n",
    "Irrelevant_data = ['profilePictureUrl', 'username', 'profileUrl', 'commentId', 'ownerId', 'timestamp']\n",
    "Data = Data.drop(Irrelevant_data, axis = 1)\n",
    "Data.index = np.arange(1, len(Data)+1)"
   ]
  },
  {
   "cell_type": "code",
   "execution_count": null,
   "id": "92934eb0",
   "metadata": {},
   "outputs": [],
   "source": [
    "Data.head(10)"
   ]
  },
  {
   "cell_type": "code",
   "execution_count": null,
   "id": "dd9c9f33",
   "metadata": {},
   "outputs": [],
   "source": [
    "# Renaming the variable columns for the data\n",
    "rename_columns = ['comments', 'comment_like', 'reply_count', 'comment_date', 'post_urls']\n",
    "Data.columns = rename_columns"
   ]
  },
  {
   "cell_type": "code",
   "execution_count": null,
   "id": "93c27cce",
   "metadata": {},
   "outputs": [],
   "source": [
    "# Now, separating the Comment_Date column {yyyy-mm-dd-time}\n",
    "# first, convert to datetime\n",
    "Data['comment_date'] = pd.to_datetime(Data['comment_date'])\n",
    "\n",
    "Data['comment_year'] = Data['comment_date'].dt.year\n",
    "Data['comment_month'] = Data['comment_date'].dt.month\n",
    "Data['comment_day'] = Data['comment_date'].dt.day\n",
    "Data['comment_time'] = Data['comment_date'].dt.time\n",
    "\n",
    "pd.options.display.float_format = '{:.0f}'.format\n",
    "Data = Data.drop('comment_date', axis = 1)"
   ]
  },
  {
   "cell_type": "code",
   "execution_count": null,
   "id": "4523c3e2",
   "metadata": {},
   "outputs": [],
   "source": [
    "# Changing the positions of the columns \n",
    "Data[['post_urls', 'comments', 'comment_like', 'reply_count', 'comment_year', 'comment_month', 'comment_day', 'comment_time']]"
   ]
  },
  {
   "cell_type": "code",
   "execution_count": null,
   "id": "5049aa7c",
   "metadata": {},
   "outputs": [],
   "source": [
    "Data['post_urls'].nunique()"
   ]
  },
  {
   "cell_type": "code",
   "execution_count": null,
   "id": "d9a47c88",
   "metadata": {},
   "outputs": [],
   "source": [
    "# Filter and display rows where 'post_urls' is a float (likely NaN)\n",
    "missing_urls = Data[Data['post_urls'].apply(lambda x: isinstance(x, float))]\n",
    "print(missing_urls)"
   ]
  },
  {
   "cell_type": "code",
   "execution_count": null,
   "id": "39675500",
   "metadata": {},
   "outputs": [],
   "source": [
    "# Removing the rows where 'post_urls' are a float (likely NaN)\n",
    "Data = Data[Data['post_urls'].apply(lambda x: isinstance(x, str))]\n",
    "post_urls_types_after = Data['post_urls'].apply(type).value_counts()\n",
    "print(post_urls_types_after)"
   ]
  },
  {
   "cell_type": "code",
   "execution_count": null,
   "id": "6a907340",
   "metadata": {},
   "outputs": [],
   "source": [
    "# Extract 'short_code' from 'post_urls' using regex\n",
    "# Assuming Instagram URLs contain shortcode after the last slash\n",
    "Data['short_code'] = Data['post_urls'].str.extract(r'/p/([^/?]+)/')"
   ]
  },
  {
   "cell_type": "code",
   "execution_count": null,
   "id": "a399fb7c",
   "metadata": {},
   "outputs": [],
   "source": [
    "Data"
   ]
  },
  {
   "cell_type": "code",
   "execution_count": null,
   "id": "1ca2e3b2",
   "metadata": {},
   "outputs": [],
   "source": [
    "# Output file\n",
    "output_file = r\"C:\\Users\\hirshikesh\\Desktop\\Capstone Project\\InstaCostco_Part1.csv\"\n",
    "\n",
    "# Save the merged CSV file\n",
    "Data.to_csv(output_file, index=False)"
   ]
  },
  {
   "cell_type": "code",
   "execution_count": null,
   "id": "685f86f0",
   "metadata": {},
   "outputs": [],
   "source": [
    "Data2 = pd.read_csv('InstaCostco_Part2.csv')"
   ]
  },
  {
   "cell_type": "code",
   "execution_count": null,
   "id": "eb4d3a24",
   "metadata": {},
   "outputs": [],
   "source": [
    "# Extract 'short_code' from 'post_urls' using regex\n",
    "# Assuming Instagram URLs contain shortcode after the last slash\n",
    "Data2['short_code'] = Data2['post_urls'].str.extract(r'/p/([^/?]+)/')"
   ]
  },
  {
   "cell_type": "code",
   "execution_count": null,
   "id": "1ba009c7",
   "metadata": {},
   "outputs": [],
   "source": [
    "# Output file\n",
    "output_file = r\"C:\\Users\\hirshikesh\\Desktop\\Capstone Project\\InstaCostco_Part2.csv\"\n",
    "\n",
    "# Save the merged CSV file\n",
    "Data2.to_csv(output_file, index=False)"
   ]
  },
  {
   "cell_type": "code",
   "execution_count": null,
   "id": "a23bb36a",
   "metadata": {},
   "outputs": [],
   "source": [
    "post_details = pd.read_csv('instagram-post-details.csv')"
   ]
  },
  {
   "cell_type": "code",
   "execution_count": null,
   "id": "cbab9714",
   "metadata": {},
   "outputs": [],
   "source": [
    "post_details"
   ]
  },
  {
   "cell_type": "code",
   "execution_count": null,
   "id": "a169a740",
   "metadata": {},
   "outputs": [],
   "source": [
    "list(post_details.columns)"
   ]
  },
  {
   "cell_type": "code",
   "execution_count": null,
   "id": "4b3a4ac0",
   "metadata": {},
   "outputs": [],
   "source": [
    "# Required columns\n",
    "required_columns = ['caption', 'display_url', 'like_count', 'post_date', 'short_code']"
   ]
  },
  {
   "cell_type": "code",
   "execution_count": null,
   "id": "a6ee4120",
   "metadata": {},
   "outputs": [],
   "source": [
    "post_details = post_details[required_columns]"
   ]
  },
  {
   "cell_type": "code",
   "execution_count": null,
   "id": "afa60949",
   "metadata": {},
   "outputs": [],
   "source": [
    "post_details"
   ]
  },
  {
   "cell_type": "code",
   "execution_count": null,
   "id": "285f461f",
   "metadata": {},
   "outputs": [],
   "source": [
    "post_details.index = np.arange(1, len(post_details)+1)"
   ]
  },
  {
   "cell_type": "code",
   "execution_count": null,
   "id": "12fdde0f",
   "metadata": {},
   "outputs": [],
   "source": [
    "# Renaming the variable columns for the data\n",
    "rename_columns = ['caption', 'display_url', 'likes', 'post_date', 'short_code']\n",
    "post_details.columns = rename_columns"
   ]
  },
  {
   "cell_type": "code",
   "execution_count": null,
   "id": "a3c63c4d",
   "metadata": {},
   "outputs": [],
   "source": [
    "# Now, separating the Comment_Date column {yyyy-mm-dd-time}\n",
    "# first, convert to datetime\n",
    "post_details['post_date'] = pd.to_datetime(post_details['post_date'], errors='coerce')\n",
    "\n",
    "post_details['post_year'] = post_details['post_date'].dt.year\n",
    "post_details['post_month'] = post_details['post_date'].dt.month\n",
    "post_details['post_day'] = post_details['post_date'].dt.day\n",
    "post_details['post_time'] = post_details['post_date'].dt.time\n",
    "\n",
    "pd.options.display.float_format = '{:.0f}'.format\n",
    "post_details = post_details.drop('post_date', axis = 1)"
   ]
  },
  {
   "cell_type": "code",
   "execution_count": null,
   "id": "52f5628a",
   "metadata": {},
   "outputs": [],
   "source": [
    "post_details"
   ]
  },
  {
   "cell_type": "code",
   "execution_count": null,
   "id": "8a88d138",
   "metadata": {},
   "outputs": [],
   "source": [
    "post_details = post_details.drop('post_day', axis = 1)"
   ]
  },
  {
   "cell_type": "code",
   "execution_count": null,
   "id": "b0184ada",
   "metadata": {},
   "outputs": [],
   "source": [
    "post_details"
   ]
  },
  {
   "cell_type": "code",
   "execution_count": null,
   "id": "0d01bddb",
   "metadata": {},
   "outputs": [],
   "source": [
    "# Output file\n",
    "output_file = r\"C:\\Users\\hirshikesh\\Desktop\\Capstone Project\\post_details.csv\"\n",
    "\n",
    "# Save the merged CSV file\n",
    "post_details.to_csv(output_file, index=False)"
   ]
  },
  {
   "cell_type": "code",
   "execution_count": null,
   "id": "41cc1e6b",
   "metadata": {},
   "outputs": [],
   "source": [
    "df = pd.read_excel('Instagram_Costco_Data.xlsx')"
   ]
  },
  {
   "cell_type": "code",
   "execution_count": null,
   "id": "925c7c88",
   "metadata": {},
   "outputs": [],
   "source": [
    "df"
   ]
  },
  {
   "cell_type": "code",
   "execution_count": null,
   "id": "fd91c9dc",
   "metadata": {},
   "outputs": [],
   "source": [
    "list(df.columns)"
   ]
  },
  {
   "cell_type": "code",
   "execution_count": null,
   "id": "68b357d4",
   "metadata": {},
   "outputs": [],
   "source": [
    "# Rename columns\n",
    "df.rename(columns={\n",
    "    'post_details.caption': 'post_caption',\n",
    "    'post_details.display_url': 'post_display_url',\n",
    "    'post_details.likes': 'post_likes',\n",
    "    'post_details.short_code': 'post_short_code',\n",
    "    'post_details.post_year': 'post_year',\n",
    "    'post_details.post_month': 'post_month',\n",
    "    'post_details.post_time': 'post_time'\n",
    "}, inplace=True)\n",
    "\n",
    "# Drop specified columns\n",
    "df.drop(columns=['short_code', 'reply_count', 'post_urls'], inplace=True)\n",
    "\n",
    "# Display the modified DataFrame columns\n",
    "print(df.columns)"
   ]
  },
  {
   "cell_type": "code",
   "execution_count": null,
   "id": "a587d198",
   "metadata": {},
   "outputs": [],
   "source": [
    "df"
   ]
  },
  {
   "cell_type": "code",
   "execution_count": null,
   "id": "9b1b94c3",
   "metadata": {},
   "outputs": [],
   "source": [
    "df_2 = pd.read_excel('Remaining_Instagram_Costco_Data.xlsx')"
   ]
  },
  {
   "cell_type": "code",
   "execution_count": null,
   "id": "a40a04e8",
   "metadata": {},
   "outputs": [],
   "source": [
    "df_2"
   ]
  }
 ],
 "metadata": {
  "kernelspec": {
   "display_name": "Python 3 (ipykernel)",
   "language": "python",
   "name": "python3"
  },
  "language_info": {
   "codemirror_mode": {
    "name": "ipython",
    "version": 3
   },
   "file_extension": ".py",
   "mimetype": "text/x-python",
   "name": "python",
   "nbconvert_exporter": "python",
   "pygments_lexer": "ipython3",
   "version": "3.10.9"
  }
 },
 "nbformat": 4,
 "nbformat_minor": 5
}
