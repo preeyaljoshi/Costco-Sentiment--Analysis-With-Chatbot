{
  "cells": [
    {
      "cell_type": "code",
      "execution_count": null,
      "id": "3c46917c-d83a-466c-8d9f-4ad00c1619b9",
      "metadata": {
        "id": "3c46917c-d83a-466c-8d9f-4ad00c1619b9"
      },
      "outputs": [],
      "source": [
        "import pandas as pd\n",
        "import numpy as np"
      ]
    },
    {
      "cell_type": "code",
      "execution_count": null,
      "id": "41f6c5be-b828-4a27-b7ac-852e899c8583",
      "metadata": {
        "id": "41f6c5be-b828-4a27-b7ac-852e899c8583"
      },
      "outputs": [],
      "source": [
        "file_paths = [\n",
        "    \"/content/sample_data/reddit_costco_alcohol_posts_and_comments.csv\",\n",
        "    \"/content/sample_data/reddit_costco_posts_and_comments_1000.csv\",\n",
        "    \"/content/sample_data/reddit_costco_wholesale_posts_and_comments_1000.csv\"\n",
        "]"
      ]
    },
    {
      "cell_type": "code",
      "execution_count": null,
      "id": "31f15ffd-6a1c-455f-9870-dc75963bce2d",
      "metadata": {
        "id": "31f15ffd-6a1c-455f-9870-dc75963bce2d"
      },
      "outputs": [],
      "source": [
        "def clean_data(file_path):\n",
        "    df = pd.read_csv(file_path)\n",
        "\n",
        "    # Remove duplicate rows\n",
        "    df = df.drop_duplicates()\n",
        "\n",
        "    # Handle missing values\n",
        "    df = df.dropna(subset=[\"post_title\", \"comment_body\"])  # Remove rows with missing text\n",
        "    df[\"comment_author\"] = df[\"comment_author\"].fillna(\"Anonymous\")\n",
        "\n",
        "    # Convert UNIX timestamps to readable datetime\n",
        "    df[\"post_created\"] = pd.to_datetime(df[\"post_created\"], unit=\"s\")\n",
        "    df[\"comment_created\"] = pd.to_datetime(df[\"comment_created\"], unit=\"s\")\n",
        "\n",
        "    # Standardize text: convert to lowercase and strip extra whitespace\n",
        "    df[\"post_title\"] = df[\"post_title\"].str.lower().str.strip()\n",
        "    df[\"comment_body\"] = df[\"comment_body\"].str.lower().str.strip()\n",
        "\n",
        "    # Remove special characters (optional)\n",
        "    df[\"post_title\"] = df[\"post_title\"].str.replace(r\"[^a-zA-Z0-9\\s]\", \"\", regex=True)\n",
        "    df[\"comment_body\"] = df[\"comment_body\"].str.replace(r\"[^a-zA-Z0-9\\s]\", \"\", regex=True)\n",
        "\n",
        "    # Filter out deleted comments\n",
        "    df = df[~df[\"comment_body\"].isin([\"[deleted]\", \"[removed]\"])]\n",
        "    df['source']=\"Reddit\"\n",
        "\n",
        "    return df"
      ]
    },
    {
      "cell_type": "code",
      "execution_count": null,
      "id": "fedd9e67-5bf5-4a9e-bd60-a0416c9a67a8",
      "metadata": {
        "id": "fedd9e67-5bf5-4a9e-bd60-a0416c9a67a8"
      },
      "outputs": [],
      "source": [
        "# Process all files\n",
        "cleaned_dataframes = [clean_data(file) for file in file_paths]"
      ]
    },
    {
      "cell_type": "code",
      "execution_count": null,
      "id": "1621f3a7-2c50-41a7-863a-ae2895677c08",
      "metadata": {
        "id": "1621f3a7-2c50-41a7-863a-ae2895677c08"
      },
      "outputs": [],
      "source": [
        "# Combine all cleaned datasets\n",
        "final_df = pd.concat(cleaned_dataframes, ignore_index=True)"
      ]
    },
    {
      "cell_type": "code",
      "execution_count": null,
      "id": "30d5c69f-bfef-4c26-893b-797343a93a28",
      "metadata": {
        "id": "30d5c69f-bfef-4c26-893b-797343a93a28"
      },
      "outputs": [],
      "source": [
        "# Save the final cleaned dataset\n",
        "final_cleaned_file = \"/content/sample_data/cleaned_combined_reddit_costco_data.csv\"\n",
        "final_df.to_csv(final_cleaned_file, index=False)"
      ]
    },
    {
      "cell_type": "code",
      "execution_count": null,
      "id": "eaa3ee72-fc7c-47f0-85fd-fafc86930102",
      "metadata": {
        "colab": {
          "base_uri": "https://localhost:8080/"
        },
        "id": "eaa3ee72-fc7c-47f0-85fd-fafc86930102",
        "outputId": "047d4da8-33ed-4602-ac02-70d901dea782"
      },
      "outputs": [
        {
          "name": "stdout",
          "output_type": "stream",
          "text": [
            "Data cleaning completed. Combined cleaned data saved to /content/sample_data/cleaned_combined_reddit_costco_data.csv\n"
          ]
        }
      ],
      "source": [
        "print(f\"Data cleaning completed. Combined cleaned data saved to {final_cleaned_file}\")"
      ]
    },
    {
      "cell_type": "code",
      "execution_count": null,
      "id": "ftznl4JShBuM",
      "metadata": {
        "id": "ftznl4JShBuM"
      },
      "outputs": [],
      "source": []
    },
    {
      "cell_type": "code",
      "execution_count": null,
      "id": "F90S69w-hB20",
      "metadata": {
        "id": "F90S69w-hB20"
      },
      "outputs": [],
      "source": [
        "## Cleaning after categorization"
      ]
    },
    {
      "cell_type": "code",
      "execution_count": null,
      "id": "8RiG9iqhhB6D",
      "metadata": {
        "colab": {
          "base_uri": "https://localhost:8080/"
        },
        "id": "8RiG9iqhhB6D",
        "outputId": "d1260ade-b186-426c-b6fc-1739c8f06259"
      },
      "outputs": [
        {
          "name": "stdout",
          "output_type": "stream",
          "text": [
            "                  post_title                                post_url  likes  \\\n",
            "0     morena san diego  noon    https://i.redd.it/7yqih97z7mde1.jpeg     28   \n",
            "1     morena san diego  noon    https://i.redd.it/7yqih97z7mde1.jpeg     28   \n",
            "2     morena san diego  noon    https://i.redd.it/7yqih97z7mde1.jpeg     28   \n",
            "3     morena san diego  noon    https://i.redd.it/7yqih97z7mde1.jpeg     28   \n",
            "4  greenville south carolina  https://www.reddit.com/gallery/1i3v11d     11   \n",
            "\n",
            "                                        comment_body  comment_likes  \\\n",
            "0                                  anything else new              1   \n",
            "1                         ahh moreno the blessed one              1   \n",
            "2                                           sold out              1   \n",
            "3  nope was hoping something wouldve been put out...              2   \n",
            "4  thats 2997 right now at costco rohnert park in...              3   \n",
            "\n",
            "             category  post_year  post_month  comment_year  comment_month  \\\n",
            "0  General Discussion       2025           1          2025              1   \n",
            "1  General Discussion       2025           1          2025              1   \n",
            "2  General Discussion       2025           1          2025              1   \n",
            "3             Service       2025           1          2025              1   \n",
            "4  General Discussion       2025           1          2025              1   \n",
            "\n",
            "   source  \n",
            "0  Reddit  \n",
            "1  Reddit  \n",
            "2  Reddit  \n",
            "3  Reddit  \n",
            "4  Reddit  \n",
            "Data transformation completed. Transformed data saved to /content/drive/MyDrive/Colab Notebooks/DatasetsCapstone/Cleaned Dataset/transformed_reddit_costco_data.csv\n"
          ]
        }
      ],
      "source": [
        "import pandas as pd\n",
        "\n",
        "# Step 1: Read the file\n",
        "file_path = \"/content/drive/MyDrive/Colab Notebooks/DatasetsCapstone/Cleaned Dataset/categorized_reddit_costco_data.csv\"  # Update with your actual file path\n",
        "df = pd.read_csv(file_path)\n",
        "\n",
        "# Step 2: Drop the 'post_id' column\n",
        "df = df.drop(columns=[\"post_id\"])\n",
        "\n",
        "# Step 3: Rename 'post_score' to 'likes' and 'comment_score' to 'comment_likes'\n",
        "df = df.rename(columns={\"post_score\": \"likes\", \"comment_score\": \"comment_likes\"})\n",
        "\n",
        "# Step 4: Extract 'post_year' and 'post_month' from 'post_created'\n",
        "df[\"post_created\"] = pd.to_datetime(df[\"post_created\"])\n",
        "df[\"post_year\"] = df[\"post_created\"].dt.year\n",
        "df[\"post_month\"] = df[\"post_created\"].dt.month\n",
        "\n",
        "# Step 5: Extract 'comment_year' and 'comment_month' from 'comment_created'\n",
        "df[\"comment_created\"] = pd.to_datetime(df[\"comment_created\"])\n",
        "df[\"comment_year\"] = df[\"comment_created\"].dt.year\n",
        "df[\"comment_month\"] = df[\"comment_created\"].dt.month\n",
        "\n",
        "# Step 6: Add a new column 'source' with the value 'Reddit'\n",
        "df[\"source\"] = \"Reddit\"\n",
        "df = df.drop(columns=[\"post_created\"])\n",
        "df = df.drop(columns=[\"comment_created\"])\n",
        "df = df.drop(columns=[\"comment_id\"])\n",
        "df = df.drop(columns=[\"comment_author\"])\n",
        "\n",
        "# Display the first few rows to verify the changes\n",
        "print(df.head())\n",
        "\n",
        "# Optional: Save the modified dataset to a new file\n",
        "final_file_path = \"/content/drive/MyDrive/Colab Notebooks/DatasetsCapstone/Cleaned Dataset/transformed_reddit_costco_data.csv\"\n",
        "df.to_csv(final_file_path, index=False)\n",
        "print(f\"Data transformation completed. Transformed data saved to {final_file_path}\")\n"
      ]
    },
    {
      "cell_type": "code",
      "execution_count": null,
      "id": "iUUiuBaghB9M",
      "metadata": {
        "id": "iUUiuBaghB9M"
      },
      "outputs": [],
      "source": []
    },
    {
      "cell_type": "code",
      "execution_count": null,
      "id": "atSszmFuriiS",
      "metadata": {
        "id": "atSszmFuriiS"
      },
      "outputs": [],
      "source": [
        "## Steps for preprocessing started (Stopwords and selected punctuations removal, lemmitization, tokenization)"
      ]
    },
    {
      "cell_type": "code",
      "execution_count": null,
      "id": "sLd930gQslq1",
      "metadata": {
        "colab": {
          "base_uri": "https://localhost:8080/"
        },
        "id": "sLd930gQslq1",
        "outputId": "0f3e6e92-72ba-4723-8c7c-38603c5df0f0"
      },
      "outputs": [
        {
          "name": "stdout",
          "output_type": "stream",
          "text": [
            "Requirement already satisfied: spacy in /usr/local/lib/python3.11/dist-packages (3.7.5)\n",
            "Requirement already satisfied: spacy-legacy<3.1.0,>=3.0.11 in /usr/local/lib/python3.11/dist-packages (from spacy) (3.0.12)\n",
            "Requirement already satisfied: spacy-loggers<2.0.0,>=1.0.0 in /usr/local/lib/python3.11/dist-packages (from spacy) (1.0.5)\n",
            "Requirement already satisfied: murmurhash<1.1.0,>=0.28.0 in /usr/local/lib/python3.11/dist-packages (from spacy) (1.0.12)\n",
            "Requirement already satisfied: cymem<2.1.0,>=2.0.2 in /usr/local/lib/python3.11/dist-packages (from spacy) (2.0.11)\n",
            "Requirement already satisfied: preshed<3.1.0,>=3.0.2 in /usr/local/lib/python3.11/dist-packages (from spacy) (3.0.9)\n",
            "Requirement already satisfied: thinc<8.3.0,>=8.2.2 in /usr/local/lib/python3.11/dist-packages (from spacy) (8.2.5)\n",
            "Requirement already satisfied: wasabi<1.2.0,>=0.9.1 in /usr/local/lib/python3.11/dist-packages (from spacy) (1.1.3)\n",
            "Requirement already satisfied: srsly<3.0.0,>=2.4.3 in /usr/local/lib/python3.11/dist-packages (from spacy) (2.5.1)\n",
            "Requirement already satisfied: catalogue<2.1.0,>=2.0.6 in /usr/local/lib/python3.11/dist-packages (from spacy) (2.0.10)\n",
            "Requirement already satisfied: weasel<0.5.0,>=0.1.0 in /usr/local/lib/python3.11/dist-packages (from spacy) (0.4.1)\n",
            "Requirement already satisfied: typer<1.0.0,>=0.3.0 in /usr/local/lib/python3.11/dist-packages (from spacy) (0.15.1)\n",
            "Requirement already satisfied: tqdm<5.0.0,>=4.38.0 in /usr/local/lib/python3.11/dist-packages (from spacy) (4.67.1)\n",
            "Requirement already satisfied: requests<3.0.0,>=2.13.0 in /usr/local/lib/python3.11/dist-packages (from spacy) (2.32.3)\n",
            "Requirement already satisfied: pydantic!=1.8,!=1.8.1,<3.0.0,>=1.7.4 in /usr/local/lib/python3.11/dist-packages (from spacy) (2.10.6)\n",
            "Requirement already satisfied: jinja2 in /usr/local/lib/python3.11/dist-packages (from spacy) (3.1.5)\n",
            "Requirement already satisfied: setuptools in /usr/local/lib/python3.11/dist-packages (from spacy) (75.1.0)\n",
            "Requirement already satisfied: packaging>=20.0 in /usr/local/lib/python3.11/dist-packages (from spacy) (24.2)\n",
            "Requirement already satisfied: langcodes<4.0.0,>=3.2.0 in /usr/local/lib/python3.11/dist-packages (from spacy) (3.5.0)\n",
            "Requirement already satisfied: numpy>=1.19.0 in /usr/local/lib/python3.11/dist-packages (from spacy) (1.26.4)\n",
            "Requirement already satisfied: language-data>=1.2 in /usr/local/lib/python3.11/dist-packages (from langcodes<4.0.0,>=3.2.0->spacy) (1.3.0)\n",
            "Requirement already satisfied: annotated-types>=0.6.0 in /usr/local/lib/python3.11/dist-packages (from pydantic!=1.8,!=1.8.1,<3.0.0,>=1.7.4->spacy) (0.7.0)\n",
            "Requirement already satisfied: pydantic-core==2.27.2 in /usr/local/lib/python3.11/dist-packages (from pydantic!=1.8,!=1.8.1,<3.0.0,>=1.7.4->spacy) (2.27.2)\n",
            "Requirement already satisfied: typing-extensions>=4.12.2 in /usr/local/lib/python3.11/dist-packages (from pydantic!=1.8,!=1.8.1,<3.0.0,>=1.7.4->spacy) (4.12.2)\n",
            "Requirement already satisfied: charset-normalizer<4,>=2 in /usr/local/lib/python3.11/dist-packages (from requests<3.0.0,>=2.13.0->spacy) (3.4.1)\n",
            "Requirement already satisfied: idna<4,>=2.5 in /usr/local/lib/python3.11/dist-packages (from requests<3.0.0,>=2.13.0->spacy) (3.10)\n",
            "Requirement already satisfied: urllib3<3,>=1.21.1 in /usr/local/lib/python3.11/dist-packages (from requests<3.0.0,>=2.13.0->spacy) (2.3.0)\n",
            "Requirement already satisfied: certifi>=2017.4.17 in /usr/local/lib/python3.11/dist-packages (from requests<3.0.0,>=2.13.0->spacy) (2025.1.31)\n",
            "Requirement already satisfied: blis<0.8.0,>=0.7.8 in /usr/local/lib/python3.11/dist-packages (from thinc<8.3.0,>=8.2.2->spacy) (0.7.11)\n",
            "Requirement already satisfied: confection<1.0.0,>=0.0.1 in /usr/local/lib/python3.11/dist-packages (from thinc<8.3.0,>=8.2.2->spacy) (0.1.5)\n",
            "Requirement already satisfied: click>=8.0.0 in /usr/local/lib/python3.11/dist-packages (from typer<1.0.0,>=0.3.0->spacy) (8.1.8)\n",
            "Requirement already satisfied: shellingham>=1.3.0 in /usr/local/lib/python3.11/dist-packages (from typer<1.0.0,>=0.3.0->spacy) (1.5.4)\n",
            "Requirement already satisfied: rich>=10.11.0 in /usr/local/lib/python3.11/dist-packages (from typer<1.0.0,>=0.3.0->spacy) (13.9.4)\n",
            "Requirement already satisfied: cloudpathlib<1.0.0,>=0.7.0 in /usr/local/lib/python3.11/dist-packages (from weasel<0.5.0,>=0.1.0->spacy) (0.20.0)\n",
            "Requirement already satisfied: smart-open<8.0.0,>=5.2.1 in /usr/local/lib/python3.11/dist-packages (from weasel<0.5.0,>=0.1.0->spacy) (7.1.0)\n",
            "Requirement already satisfied: MarkupSafe>=2.0 in /usr/local/lib/python3.11/dist-packages (from jinja2->spacy) (3.0.2)\n",
            "Requirement already satisfied: marisa-trie>=1.1.0 in /usr/local/lib/python3.11/dist-packages (from language-data>=1.2->langcodes<4.0.0,>=3.2.0->spacy) (1.2.1)\n",
            "Requirement already satisfied: markdown-it-py>=2.2.0 in /usr/local/lib/python3.11/dist-packages (from rich>=10.11.0->typer<1.0.0,>=0.3.0->spacy) (3.0.0)\n",
            "Requirement already satisfied: pygments<3.0.0,>=2.13.0 in /usr/local/lib/python3.11/dist-packages (from rich>=10.11.0->typer<1.0.0,>=0.3.0->spacy) (2.18.0)\n",
            "Requirement already satisfied: wrapt in /usr/local/lib/python3.11/dist-packages (from smart-open<8.0.0,>=5.2.1->weasel<0.5.0,>=0.1.0->spacy) (1.17.2)\n",
            "Requirement already satisfied: mdurl~=0.1 in /usr/local/lib/python3.11/dist-packages (from markdown-it-py>=2.2.0->rich>=10.11.0->typer<1.0.0,>=0.3.0->spacy) (0.1.2)\n",
            "Collecting en-core-web-md==3.7.1\n",
            "  Downloading https://github.com/explosion/spacy-models/releases/download/en_core_web_md-3.7.1/en_core_web_md-3.7.1-py3-none-any.whl (42.8 MB)\n",
            "\u001b[2K     \u001b[90m━━━━━━━━━━━━━━━━━━━━━━━━━━━━━━━━━━━━━━━━\u001b[0m \u001b[32m42.8/42.8 MB\u001b[0m \u001b[31m51.9 MB/s\u001b[0m eta \u001b[36m0:00:00\u001b[0m\n",
            "\u001b[?25hRequirement already satisfied: spacy<3.8.0,>=3.7.2 in /usr/local/lib/python3.11/dist-packages (from en-core-web-md==3.7.1) (3.7.5)\n",
            "Requirement already satisfied: spacy-legacy<3.1.0,>=3.0.11 in /usr/local/lib/python3.11/dist-packages (from spacy<3.8.0,>=3.7.2->en-core-web-md==3.7.1) (3.0.12)\n",
            "Requirement already satisfied: spacy-loggers<2.0.0,>=1.0.0 in /usr/local/lib/python3.11/dist-packages (from spacy<3.8.0,>=3.7.2->en-core-web-md==3.7.1) (1.0.5)\n",
            "Requirement already satisfied: murmurhash<1.1.0,>=0.28.0 in /usr/local/lib/python3.11/dist-packages (from spacy<3.8.0,>=3.7.2->en-core-web-md==3.7.1) (1.0.12)\n",
            "Requirement already satisfied: cymem<2.1.0,>=2.0.2 in /usr/local/lib/python3.11/dist-packages (from spacy<3.8.0,>=3.7.2->en-core-web-md==3.7.1) (2.0.11)\n",
            "Requirement already satisfied: preshed<3.1.0,>=3.0.2 in /usr/local/lib/python3.11/dist-packages (from spacy<3.8.0,>=3.7.2->en-core-web-md==3.7.1) (3.0.9)\n",
            "Requirement already satisfied: thinc<8.3.0,>=8.2.2 in /usr/local/lib/python3.11/dist-packages (from spacy<3.8.0,>=3.7.2->en-core-web-md==3.7.1) (8.2.5)\n",
            "Requirement already satisfied: wasabi<1.2.0,>=0.9.1 in /usr/local/lib/python3.11/dist-packages (from spacy<3.8.0,>=3.7.2->en-core-web-md==3.7.1) (1.1.3)\n",
            "Requirement already satisfied: srsly<3.0.0,>=2.4.3 in /usr/local/lib/python3.11/dist-packages (from spacy<3.8.0,>=3.7.2->en-core-web-md==3.7.1) (2.5.1)\n",
            "Requirement already satisfied: catalogue<2.1.0,>=2.0.6 in /usr/local/lib/python3.11/dist-packages (from spacy<3.8.0,>=3.7.2->en-core-web-md==3.7.1) (2.0.10)\n",
            "Requirement already satisfied: weasel<0.5.0,>=0.1.0 in /usr/local/lib/python3.11/dist-packages (from spacy<3.8.0,>=3.7.2->en-core-web-md==3.7.1) (0.4.1)\n",
            "Requirement already satisfied: typer<1.0.0,>=0.3.0 in /usr/local/lib/python3.11/dist-packages (from spacy<3.8.0,>=3.7.2->en-core-web-md==3.7.1) (0.15.1)\n",
            "Requirement already satisfied: tqdm<5.0.0,>=4.38.0 in /usr/local/lib/python3.11/dist-packages (from spacy<3.8.0,>=3.7.2->en-core-web-md==3.7.1) (4.67.1)\n",
            "Requirement already satisfied: requests<3.0.0,>=2.13.0 in /usr/local/lib/python3.11/dist-packages (from spacy<3.8.0,>=3.7.2->en-core-web-md==3.7.1) (2.32.3)\n",
            "Requirement already satisfied: pydantic!=1.8,!=1.8.1,<3.0.0,>=1.7.4 in /usr/local/lib/python3.11/dist-packages (from spacy<3.8.0,>=3.7.2->en-core-web-md==3.7.1) (2.10.6)\n",
            "Requirement already satisfied: jinja2 in /usr/local/lib/python3.11/dist-packages (from spacy<3.8.0,>=3.7.2->en-core-web-md==3.7.1) (3.1.5)\n",
            "Requirement already satisfied: setuptools in /usr/local/lib/python3.11/dist-packages (from spacy<3.8.0,>=3.7.2->en-core-web-md==3.7.1) (75.1.0)\n",
            "Requirement already satisfied: packaging>=20.0 in /usr/local/lib/python3.11/dist-packages (from spacy<3.8.0,>=3.7.2->en-core-web-md==3.7.1) (24.2)\n",
            "Requirement already satisfied: langcodes<4.0.0,>=3.2.0 in /usr/local/lib/python3.11/dist-packages (from spacy<3.8.0,>=3.7.2->en-core-web-md==3.7.1) (3.5.0)\n",
            "Requirement already satisfied: numpy>=1.19.0 in /usr/local/lib/python3.11/dist-packages (from spacy<3.8.0,>=3.7.2->en-core-web-md==3.7.1) (1.26.4)\n",
            "Requirement already satisfied: language-data>=1.2 in /usr/local/lib/python3.11/dist-packages (from langcodes<4.0.0,>=3.2.0->spacy<3.8.0,>=3.7.2->en-core-web-md==3.7.1) (1.3.0)\n",
            "Requirement already satisfied: annotated-types>=0.6.0 in /usr/local/lib/python3.11/dist-packages (from pydantic!=1.8,!=1.8.1,<3.0.0,>=1.7.4->spacy<3.8.0,>=3.7.2->en-core-web-md==3.7.1) (0.7.0)\n",
            "Requirement already satisfied: pydantic-core==2.27.2 in /usr/local/lib/python3.11/dist-packages (from pydantic!=1.8,!=1.8.1,<3.0.0,>=1.7.4->spacy<3.8.0,>=3.7.2->en-core-web-md==3.7.1) (2.27.2)\n",
            "Requirement already satisfied: typing-extensions>=4.12.2 in /usr/local/lib/python3.11/dist-packages (from pydantic!=1.8,!=1.8.1,<3.0.0,>=1.7.4->spacy<3.8.0,>=3.7.2->en-core-web-md==3.7.1) (4.12.2)\n",
            "Requirement already satisfied: charset-normalizer<4,>=2 in /usr/local/lib/python3.11/dist-packages (from requests<3.0.0,>=2.13.0->spacy<3.8.0,>=3.7.2->en-core-web-md==3.7.1) (3.4.1)\n",
            "Requirement already satisfied: idna<4,>=2.5 in /usr/local/lib/python3.11/dist-packages (from requests<3.0.0,>=2.13.0->spacy<3.8.0,>=3.7.2->en-core-web-md==3.7.1) (3.10)\n",
            "Requirement already satisfied: urllib3<3,>=1.21.1 in /usr/local/lib/python3.11/dist-packages (from requests<3.0.0,>=2.13.0->spacy<3.8.0,>=3.7.2->en-core-web-md==3.7.1) (2.3.0)\n",
            "Requirement already satisfied: certifi>=2017.4.17 in /usr/local/lib/python3.11/dist-packages (from requests<3.0.0,>=2.13.0->spacy<3.8.0,>=3.7.2->en-core-web-md==3.7.1) (2025.1.31)\n",
            "Requirement already satisfied: blis<0.8.0,>=0.7.8 in /usr/local/lib/python3.11/dist-packages (from thinc<8.3.0,>=8.2.2->spacy<3.8.0,>=3.7.2->en-core-web-md==3.7.1) (0.7.11)\n",
            "Requirement already satisfied: confection<1.0.0,>=0.0.1 in /usr/local/lib/python3.11/dist-packages (from thinc<8.3.0,>=8.2.2->spacy<3.8.0,>=3.7.2->en-core-web-md==3.7.1) (0.1.5)\n",
            "Requirement already satisfied: click>=8.0.0 in /usr/local/lib/python3.11/dist-packages (from typer<1.0.0,>=0.3.0->spacy<3.8.0,>=3.7.2->en-core-web-md==3.7.1) (8.1.8)\n",
            "Requirement already satisfied: shellingham>=1.3.0 in /usr/local/lib/python3.11/dist-packages (from typer<1.0.0,>=0.3.0->spacy<3.8.0,>=3.7.2->en-core-web-md==3.7.1) (1.5.4)\n",
            "Requirement already satisfied: rich>=10.11.0 in /usr/local/lib/python3.11/dist-packages (from typer<1.0.0,>=0.3.0->spacy<3.8.0,>=3.7.2->en-core-web-md==3.7.1) (13.9.4)\n",
            "Requirement already satisfied: cloudpathlib<1.0.0,>=0.7.0 in /usr/local/lib/python3.11/dist-packages (from weasel<0.5.0,>=0.1.0->spacy<3.8.0,>=3.7.2->en-core-web-md==3.7.1) (0.20.0)\n",
            "Requirement already satisfied: smart-open<8.0.0,>=5.2.1 in /usr/local/lib/python3.11/dist-packages (from weasel<0.5.0,>=0.1.0->spacy<3.8.0,>=3.7.2->en-core-web-md==3.7.1) (7.1.0)\n",
            "Requirement already satisfied: MarkupSafe>=2.0 in /usr/local/lib/python3.11/dist-packages (from jinja2->spacy<3.8.0,>=3.7.2->en-core-web-md==3.7.1) (3.0.2)\n",
            "Requirement already satisfied: marisa-trie>=1.1.0 in /usr/local/lib/python3.11/dist-packages (from language-data>=1.2->langcodes<4.0.0,>=3.2.0->spacy<3.8.0,>=3.7.2->en-core-web-md==3.7.1) (1.2.1)\n",
            "Requirement already satisfied: markdown-it-py>=2.2.0 in /usr/local/lib/python3.11/dist-packages (from rich>=10.11.0->typer<1.0.0,>=0.3.0->spacy<3.8.0,>=3.7.2->en-core-web-md==3.7.1) (3.0.0)\n",
            "Requirement already satisfied: pygments<3.0.0,>=2.13.0 in /usr/local/lib/python3.11/dist-packages (from rich>=10.11.0->typer<1.0.0,>=0.3.0->spacy<3.8.0,>=3.7.2->en-core-web-md==3.7.1) (2.18.0)\n",
            "Requirement already satisfied: wrapt in /usr/local/lib/python3.11/dist-packages (from smart-open<8.0.0,>=5.2.1->weasel<0.5.0,>=0.1.0->spacy<3.8.0,>=3.7.2->en-core-web-md==3.7.1) (1.17.2)\n",
            "Requirement already satisfied: mdurl~=0.1 in /usr/local/lib/python3.11/dist-packages (from markdown-it-py>=2.2.0->rich>=10.11.0->typer<1.0.0,>=0.3.0->spacy<3.8.0,>=3.7.2->en-core-web-md==3.7.1) (0.1.2)\n",
            "Installing collected packages: en-core-web-md\n",
            "Successfully installed en-core-web-md-3.7.1\n",
            "\u001b[38;5;2m✔ Download and installation successful\u001b[0m\n",
            "You can now load the package via spacy.load('en_core_web_md')\n",
            "\u001b[38;5;3m⚠ Restart to reload dependencies\u001b[0m\n",
            "If you are in a Jupyter or Colab notebook, you may need to restart Python in\n",
            "order to load all the package's dependencies. You can do this by selecting the\n",
            "'Restart kernel' or 'Restart runtime' option.\n"
          ]
        }
      ],
      "source": [
        "!pip install spacy\n",
        "!python -m spacy download en_core_web_md"
      ]
    },
    {
      "cell_type": "code",
      "execution_count": null,
      "id": "qc7choMZruYe",
      "metadata": {
        "id": "qc7choMZruYe"
      },
      "outputs": [],
      "source": [
        "import spacy\n",
        "import pandas as pd\n",
        "import re  # For regular expressions\n",
        "\n",
        "nlp = spacy.load(\"en_core_web_md\")"
      ]
    },
    {
      "cell_type": "code",
      "execution_count": null,
      "id": "BemCC2OQhB_2",
      "metadata": {
        "colab": {
          "background_save": true
        },
        "id": "BemCC2OQhB_2",
        "outputId": "4c60d919-a580-4cf1-87f8-b6e044f98de9"
      },
      "outputs": [
        {
          "name": "stdout",
          "output_type": "stream",
          "text": [
            "Preprocessing completed. Data saved to /content/drive/MyDrive/Colab Notebooks/DatasetsCapstone/Cleaned Dataset/preprocessed_reddit_costco_data.csv\n"
          ]
        }
      ],
      "source": [
        "\n",
        "cleaned_file_path = \"/content/drive/MyDrive/Colab Notebooks/DatasetsCapstone/Cleaned Dataset/transformed_reddit_costco_data.csv\"\n",
        "df = pd.read_csv(cleaned_file_path)\n",
        "\n",
        "# Custom stopwords (Costco-related terms to keep)\n",
        "custom_stopwords = set([\n",
        "    \"costco\", \"customer\", \"membership\", \"return\", \"refund\", \"kirkland\", \"delivery\", \"order\",\n",
        "    \"id\", \"its\", \"price\", \"coupon\", \"discount\", \"sale\", \"offer\", \"online\", \"store\", \"product\",\n",
        "    \"purchase\", \"shipping\", \"review\", \"availability\", \"pack\", \"bulk\", \"cart\", \"checkout\",\n",
        "    \"service\", \"item\", \"manager\", \"location\", \"warehouse\", \"brand\", \"department\", \"shopping\",\n",
        "    \"receipt\", \"cashier\", \"staff\", \"member\", \"club\", \"barcode\", \"pickup\", \"rewards\", \"card\",\n",
        "    \"cost\", \"line\", \"experience\", \"returning\", \"queue\", \"section\", \"selection\", \"helpdesk\",\n",
        "    \"support\", \"phone\", \"app\", \"counter\", \"employee\", \"promotion\", \"policy\", \"gas\", \"station\",\n",
        "    \"parking\", \"hours\", \"aisle\", \"price match\"\n",
        "])\n",
        "\n",
        "# Common contractions and misspellings\n",
        "misspelling_mapping = {\n",
        "    \"thats\": \"that is\", \"its\": \"it is\", \"cant\": \"cannot\", \"im\": \"i am\", \"dont\": \"do not\",\n",
        "    \"wont\": \"will not\", \"didnt\": \"did not\", \"couldnt\": \"could not\", \"wouldnt\": \"would not\",\n",
        "    \"shouldnt\": \"should not\", \"havent\": \"have not\", \"hasnt\": \"has not\", \"aint\": \"is not\",\n",
        "    \"arent\": \"are not\", \"werent\": \"were not\", \"wasnt\": \"was not\", \"wanna\": \"want to\",\n",
        "    \"gonna\": \"going to\", \"gotta\": \"got to\", \"lemme\": \"let me\", \"gimme\": \"give me\",\n",
        "    \"yall\": \"you all\", \"idk\": \"i do not know\", \"tbh\": \"to be honest\", \"ikr\": \"i know right\",\n",
        "    \"omg\": \"oh my god\", \"u\": \"you\", \"r\": \"are\", \"ur\": \"your\", \"cuz\": \"because\", \"pls\": \"please\",\n",
        "    \"ppl\": \"people\", \"tho\": \"though\", \"nite\": \"night\", \"luv\": \"love\", \"bday\": \"birthday\",\n",
        "    \"gr8\": \"great\", \"thx\": \"thanks\", \"sry\": \"sorry\", \"lol\": \"laughing out loud\",\n",
        "    \"btw\": \"by the way\", \"imo\": \"in my opinion\", \"brb\": \"be right back\", \"lmk\": \"let me know\",\n",
        "    \"smh\": \"shaking my head\", \"fyi\": \"for your information\"\n",
        "}\n",
        "\n",
        "# Function to correct common misspellings and contractions\n",
        "def correct_misspellings(text):\n",
        "    for misspelling, full_form in misspelling_mapping.items():\n",
        "        text = re.sub(rf\"\\b{misspelling}\\b\", full_form, text)\n",
        "    return text\n",
        "\n",
        "# Preprocessing function\n",
        "def preprocess_text(text):\n",
        "    text = text.lower()  # Convert to lowercase\n",
        "    text = correct_misspellings(text)  # Correct common misspellings\n",
        "    text = re.sub(r\"[^a-zA-Z0-9\\s!?]\", \"\", text)  # Remove unwanted characters\n",
        "    doc = nlp(text)  # Tokenization using SpaCy\n",
        "\n",
        "    tokens = [\n",
        "        token.lemma_  # Use lemmatized form of tokens\n",
        "        for token in doc\n",
        "        if not token.is_stop or token.text in custom_stopwords  # Filter stopwords\n",
        "    ]\n",
        "    return \" \".join(tokens)\n",
        "\n",
        "# Apply the preprocessing function to both 'post_title' and 'comment_body'\n",
        "df[\"post_title\"] = df[\"post_title\"].fillna(\"\").apply(preprocess_text)\n",
        "df[\"comment_body\"] = df[\"comment_body\"].fillna(\"\").apply(preprocess_text)\n",
        "\n",
        "# Save the processed data\n",
        "preprocessed_file_path = \"/content/drive/MyDrive/Colab Notebooks/DatasetsCapstone/Cleaned Dataset/preprocessed_reddit_costco_data.csv\"\n",
        "df.to_csv(preprocessed_file_path, index=False)\n",
        "\n",
        "print(f\"Preprocessing completed. Data saved to {preprocessed_file_path}\")"
      ]
    },
    {
      "cell_type": "code",
      "execution_count": null,
      "id": "46ZlNkCAoH0V",
      "metadata": {
        "colab": {
          "base_uri": "https://localhost:8080/"
        },
        "id": "46ZlNkCAoH0V",
        "outputId": "b2c653c1-62c6-4211-86bc-7bd7b9d8e580"
      },
      "outputs": [
        {
          "name": "stdout",
          "output_type": "stream",
          "text": [
            "Drive already mounted at /content/drive; to attempt to forcibly remount, call drive.mount(\"/content/drive\", force_remount=True).\n"
          ]
        }
      ],
      "source": [
        "from google.colab import drive\n",
        "drive.mount('/content/drive')"
      ]
    },
    {
      "cell_type": "code",
      "execution_count": null,
      "id": "SEDi4rR4seQb",
      "metadata": {
        "id": "SEDi4rR4seQb"
      },
      "outputs": [],
      "source": []
    },
    {
      "cell_type": "code",
      "execution_count": null,
      "id": "8uxV9Fn7seTK",
      "metadata": {
        "id": "8uxV9Fn7seTK"
      },
      "outputs": [],
      "source": []
    },
    {
      "cell_type": "code",
      "execution_count": null,
      "id": "HSMDxoZXhCHp",
      "metadata": {
        "id": "HSMDxoZXhCHp"
      },
      "outputs": [],
      "source": [
        "## Categorization method 1."
      ]
    },
    {
      "cell_type": "code",
      "execution_count": null,
      "id": "4bb6188b-0535-437d-8be3-277b221f3717",
      "metadata": {
        "colab": {
          "base_uri": "https://localhost:8080/"
        },
        "id": "4bb6188b-0535-437d-8be3-277b221f3717",
        "outputId": "fdcf1938-09b6-48d5-ad47-d7fe8bb2e845"
      },
      "outputs": [
        {
          "name": "stdout",
          "output_type": "stream",
          "text": [
            "Requirement already satisfied: spacy in /usr/local/lib/python3.11/dist-packages (3.7.5)\n",
            "Requirement already satisfied: spacy-legacy<3.1.0,>=3.0.11 in /usr/local/lib/python3.11/dist-packages (from spacy) (3.0.12)\n",
            "Requirement already satisfied: spacy-loggers<2.0.0,>=1.0.0 in /usr/local/lib/python3.11/dist-packages (from spacy) (1.0.5)\n",
            "Requirement already satisfied: murmurhash<1.1.0,>=0.28.0 in /usr/local/lib/python3.11/dist-packages (from spacy) (1.0.12)\n",
            "Requirement already satisfied: cymem<2.1.0,>=2.0.2 in /usr/local/lib/python3.11/dist-packages (from spacy) (2.0.11)\n",
            "Requirement already satisfied: preshed<3.1.0,>=3.0.2 in /usr/local/lib/python3.11/dist-packages (from spacy) (3.0.9)\n",
            "Requirement already satisfied: thinc<8.3.0,>=8.2.2 in /usr/local/lib/python3.11/dist-packages (from spacy) (8.2.5)\n",
            "Requirement already satisfied: wasabi<1.2.0,>=0.9.1 in /usr/local/lib/python3.11/dist-packages (from spacy) (1.1.3)\n",
            "Requirement already satisfied: srsly<3.0.0,>=2.4.3 in /usr/local/lib/python3.11/dist-packages (from spacy) (2.5.1)\n",
            "Requirement already satisfied: catalogue<2.1.0,>=2.0.6 in /usr/local/lib/python3.11/dist-packages (from spacy) (2.0.10)\n",
            "Requirement already satisfied: weasel<0.5.0,>=0.1.0 in /usr/local/lib/python3.11/dist-packages (from spacy) (0.4.1)\n",
            "Requirement already satisfied: typer<1.0.0,>=0.3.0 in /usr/local/lib/python3.11/dist-packages (from spacy) (0.15.1)\n",
            "Requirement already satisfied: tqdm<5.0.0,>=4.38.0 in /usr/local/lib/python3.11/dist-packages (from spacy) (4.67.1)\n",
            "Requirement already satisfied: requests<3.0.0,>=2.13.0 in /usr/local/lib/python3.11/dist-packages (from spacy) (2.32.3)\n",
            "Requirement already satisfied: pydantic!=1.8,!=1.8.1,<3.0.0,>=1.7.4 in /usr/local/lib/python3.11/dist-packages (from spacy) (2.10.6)\n",
            "Requirement already satisfied: jinja2 in /usr/local/lib/python3.11/dist-packages (from spacy) (3.1.5)\n",
            "Requirement already satisfied: setuptools in /usr/local/lib/python3.11/dist-packages (from spacy) (75.1.0)\n",
            "Requirement already satisfied: packaging>=20.0 in /usr/local/lib/python3.11/dist-packages (from spacy) (24.2)\n",
            "Requirement already satisfied: langcodes<4.0.0,>=3.2.0 in /usr/local/lib/python3.11/dist-packages (from spacy) (3.5.0)\n",
            "Requirement already satisfied: numpy>=1.19.0 in /usr/local/lib/python3.11/dist-packages (from spacy) (1.26.4)\n",
            "Requirement already satisfied: language-data>=1.2 in /usr/local/lib/python3.11/dist-packages (from langcodes<4.0.0,>=3.2.0->spacy) (1.3.0)\n",
            "Requirement already satisfied: annotated-types>=0.6.0 in /usr/local/lib/python3.11/dist-packages (from pydantic!=1.8,!=1.8.1,<3.0.0,>=1.7.4->spacy) (0.7.0)\n",
            "Requirement already satisfied: pydantic-core==2.27.2 in /usr/local/lib/python3.11/dist-packages (from pydantic!=1.8,!=1.8.1,<3.0.0,>=1.7.4->spacy) (2.27.2)\n",
            "Requirement already satisfied: typing-extensions>=4.12.2 in /usr/local/lib/python3.11/dist-packages (from pydantic!=1.8,!=1.8.1,<3.0.0,>=1.7.4->spacy) (4.12.2)\n",
            "Requirement already satisfied: charset-normalizer<4,>=2 in /usr/local/lib/python3.11/dist-packages (from requests<3.0.0,>=2.13.0->spacy) (3.4.1)\n",
            "Requirement already satisfied: idna<4,>=2.5 in /usr/local/lib/python3.11/dist-packages (from requests<3.0.0,>=2.13.0->spacy) (3.10)\n",
            "Requirement already satisfied: urllib3<3,>=1.21.1 in /usr/local/lib/python3.11/dist-packages (from requests<3.0.0,>=2.13.0->spacy) (2.3.0)\n",
            "Requirement already satisfied: certifi>=2017.4.17 in /usr/local/lib/python3.11/dist-packages (from requests<3.0.0,>=2.13.0->spacy) (2025.1.31)\n",
            "Requirement already satisfied: blis<0.8.0,>=0.7.8 in /usr/local/lib/python3.11/dist-packages (from thinc<8.3.0,>=8.2.2->spacy) (0.7.11)\n",
            "Requirement already satisfied: confection<1.0.0,>=0.0.1 in /usr/local/lib/python3.11/dist-packages (from thinc<8.3.0,>=8.2.2->spacy) (0.1.5)\n",
            "Requirement already satisfied: click>=8.0.0 in /usr/local/lib/python3.11/dist-packages (from typer<1.0.0,>=0.3.0->spacy) (8.1.8)\n",
            "Requirement already satisfied: shellingham>=1.3.0 in /usr/local/lib/python3.11/dist-packages (from typer<1.0.0,>=0.3.0->spacy) (1.5.4)\n",
            "Requirement already satisfied: rich>=10.11.0 in /usr/local/lib/python3.11/dist-packages (from typer<1.0.0,>=0.3.0->spacy) (13.9.4)\n",
            "Requirement already satisfied: cloudpathlib<1.0.0,>=0.7.0 in /usr/local/lib/python3.11/dist-packages (from weasel<0.5.0,>=0.1.0->spacy) (0.20.0)\n",
            "Requirement already satisfied: smart-open<8.0.0,>=5.2.1 in /usr/local/lib/python3.11/dist-packages (from weasel<0.5.0,>=0.1.0->spacy) (7.1.0)\n",
            "Requirement already satisfied: MarkupSafe>=2.0 in /usr/local/lib/python3.11/dist-packages (from jinja2->spacy) (3.0.2)\n",
            "Requirement already satisfied: marisa-trie>=1.1.0 in /usr/local/lib/python3.11/dist-packages (from language-data>=1.2->langcodes<4.0.0,>=3.2.0->spacy) (1.2.1)\n",
            "Requirement already satisfied: markdown-it-py>=2.2.0 in /usr/local/lib/python3.11/dist-packages (from rich>=10.11.0->typer<1.0.0,>=0.3.0->spacy) (3.0.0)\n",
            "Requirement already satisfied: pygments<3.0.0,>=2.13.0 in /usr/local/lib/python3.11/dist-packages (from rich>=10.11.0->typer<1.0.0,>=0.3.0->spacy) (2.18.0)\n",
            "Requirement already satisfied: wrapt in /usr/local/lib/python3.11/dist-packages (from smart-open<8.0.0,>=5.2.1->weasel<0.5.0,>=0.1.0->spacy) (1.17.2)\n",
            "Requirement already satisfied: mdurl~=0.1 in /usr/local/lib/python3.11/dist-packages (from markdown-it-py>=2.2.0->rich>=10.11.0->typer<1.0.0,>=0.3.0->spacy) (0.1.2)\n",
            "Collecting en-core-web-md==3.7.1\n",
            "  Downloading https://github.com/explosion/spacy-models/releases/download/en_core_web_md-3.7.1/en_core_web_md-3.7.1-py3-none-any.whl (42.8 MB)\n",
            "\u001b[2K     \u001b[90m━━━━━━━━━━━━━━━━━━━━━━━━━━━━━━━━━━━━━━━━\u001b[0m \u001b[32m42.8/42.8 MB\u001b[0m \u001b[31m56.1 MB/s\u001b[0m eta \u001b[36m0:00:00\u001b[0m\n",
            "\u001b[?25hRequirement already satisfied: spacy<3.8.0,>=3.7.2 in /usr/local/lib/python3.11/dist-packages (from en-core-web-md==3.7.1) (3.7.5)\n",
            "Requirement already satisfied: spacy-legacy<3.1.0,>=3.0.11 in /usr/local/lib/python3.11/dist-packages (from spacy<3.8.0,>=3.7.2->en-core-web-md==3.7.1) (3.0.12)\n",
            "Requirement already satisfied: spacy-loggers<2.0.0,>=1.0.0 in /usr/local/lib/python3.11/dist-packages (from spacy<3.8.0,>=3.7.2->en-core-web-md==3.7.1) (1.0.5)\n",
            "Requirement already satisfied: murmurhash<1.1.0,>=0.28.0 in /usr/local/lib/python3.11/dist-packages (from spacy<3.8.0,>=3.7.2->en-core-web-md==3.7.1) (1.0.12)\n",
            "Requirement already satisfied: cymem<2.1.0,>=2.0.2 in /usr/local/lib/python3.11/dist-packages (from spacy<3.8.0,>=3.7.2->en-core-web-md==3.7.1) (2.0.11)\n",
            "Requirement already satisfied: preshed<3.1.0,>=3.0.2 in /usr/local/lib/python3.11/dist-packages (from spacy<3.8.0,>=3.7.2->en-core-web-md==3.7.1) (3.0.9)\n",
            "Requirement already satisfied: thinc<8.3.0,>=8.2.2 in /usr/local/lib/python3.11/dist-packages (from spacy<3.8.0,>=3.7.2->en-core-web-md==3.7.1) (8.2.5)\n",
            "Requirement already satisfied: wasabi<1.2.0,>=0.9.1 in /usr/local/lib/python3.11/dist-packages (from spacy<3.8.0,>=3.7.2->en-core-web-md==3.7.1) (1.1.3)\n",
            "Requirement already satisfied: srsly<3.0.0,>=2.4.3 in /usr/local/lib/python3.11/dist-packages (from spacy<3.8.0,>=3.7.2->en-core-web-md==3.7.1) (2.5.1)\n",
            "Requirement already satisfied: catalogue<2.1.0,>=2.0.6 in /usr/local/lib/python3.11/dist-packages (from spacy<3.8.0,>=3.7.2->en-core-web-md==3.7.1) (2.0.10)\n",
            "Requirement already satisfied: weasel<0.5.0,>=0.1.0 in /usr/local/lib/python3.11/dist-packages (from spacy<3.8.0,>=3.7.2->en-core-web-md==3.7.1) (0.4.1)\n",
            "Requirement already satisfied: typer<1.0.0,>=0.3.0 in /usr/local/lib/python3.11/dist-packages (from spacy<3.8.0,>=3.7.2->en-core-web-md==3.7.1) (0.15.1)\n",
            "Requirement already satisfied: tqdm<5.0.0,>=4.38.0 in /usr/local/lib/python3.11/dist-packages (from spacy<3.8.0,>=3.7.2->en-core-web-md==3.7.1) (4.67.1)\n",
            "Requirement already satisfied: requests<3.0.0,>=2.13.0 in /usr/local/lib/python3.11/dist-packages (from spacy<3.8.0,>=3.7.2->en-core-web-md==3.7.1) (2.32.3)\n",
            "Requirement already satisfied: pydantic!=1.8,!=1.8.1,<3.0.0,>=1.7.4 in /usr/local/lib/python3.11/dist-packages (from spacy<3.8.0,>=3.7.2->en-core-web-md==3.7.1) (2.10.6)\n",
            "Requirement already satisfied: jinja2 in /usr/local/lib/python3.11/dist-packages (from spacy<3.8.0,>=3.7.2->en-core-web-md==3.7.1) (3.1.5)\n",
            "Requirement already satisfied: setuptools in /usr/local/lib/python3.11/dist-packages (from spacy<3.8.0,>=3.7.2->en-core-web-md==3.7.1) (75.1.0)\n",
            "Requirement already satisfied: packaging>=20.0 in /usr/local/lib/python3.11/dist-packages (from spacy<3.8.0,>=3.7.2->en-core-web-md==3.7.1) (24.2)\n",
            "Requirement already satisfied: langcodes<4.0.0,>=3.2.0 in /usr/local/lib/python3.11/dist-packages (from spacy<3.8.0,>=3.7.2->en-core-web-md==3.7.1) (3.5.0)\n",
            "Requirement already satisfied: numpy>=1.19.0 in /usr/local/lib/python3.11/dist-packages (from spacy<3.8.0,>=3.7.2->en-core-web-md==3.7.1) (1.26.4)\n",
            "Requirement already satisfied: language-data>=1.2 in /usr/local/lib/python3.11/dist-packages (from langcodes<4.0.0,>=3.2.0->spacy<3.8.0,>=3.7.2->en-core-web-md==3.7.1) (1.3.0)\n",
            "Requirement already satisfied: annotated-types>=0.6.0 in /usr/local/lib/python3.11/dist-packages (from pydantic!=1.8,!=1.8.1,<3.0.0,>=1.7.4->spacy<3.8.0,>=3.7.2->en-core-web-md==3.7.1) (0.7.0)\n",
            "Requirement already satisfied: pydantic-core==2.27.2 in /usr/local/lib/python3.11/dist-packages (from pydantic!=1.8,!=1.8.1,<3.0.0,>=1.7.4->spacy<3.8.0,>=3.7.2->en-core-web-md==3.7.1) (2.27.2)\n",
            "Requirement already satisfied: typing-extensions>=4.12.2 in /usr/local/lib/python3.11/dist-packages (from pydantic!=1.8,!=1.8.1,<3.0.0,>=1.7.4->spacy<3.8.0,>=3.7.2->en-core-web-md==3.7.1) (4.12.2)\n",
            "Requirement already satisfied: charset-normalizer<4,>=2 in /usr/local/lib/python3.11/dist-packages (from requests<3.0.0,>=2.13.0->spacy<3.8.0,>=3.7.2->en-core-web-md==3.7.1) (3.4.1)\n",
            "Requirement already satisfied: idna<4,>=2.5 in /usr/local/lib/python3.11/dist-packages (from requests<3.0.0,>=2.13.0->spacy<3.8.0,>=3.7.2->en-core-web-md==3.7.1) (3.10)\n",
            "Requirement already satisfied: urllib3<3,>=1.21.1 in /usr/local/lib/python3.11/dist-packages (from requests<3.0.0,>=2.13.0->spacy<3.8.0,>=3.7.2->en-core-web-md==3.7.1) (2.3.0)\n",
            "Requirement already satisfied: certifi>=2017.4.17 in /usr/local/lib/python3.11/dist-packages (from requests<3.0.0,>=2.13.0->spacy<3.8.0,>=3.7.2->en-core-web-md==3.7.1) (2025.1.31)\n",
            "Requirement already satisfied: blis<0.8.0,>=0.7.8 in /usr/local/lib/python3.11/dist-packages (from thinc<8.3.0,>=8.2.2->spacy<3.8.0,>=3.7.2->en-core-web-md==3.7.1) (0.7.11)\n",
            "Requirement already satisfied: confection<1.0.0,>=0.0.1 in /usr/local/lib/python3.11/dist-packages (from thinc<8.3.0,>=8.2.2->spacy<3.8.0,>=3.7.2->en-core-web-md==3.7.1) (0.1.5)\n",
            "Requirement already satisfied: click>=8.0.0 in /usr/local/lib/python3.11/dist-packages (from typer<1.0.0,>=0.3.0->spacy<3.8.0,>=3.7.2->en-core-web-md==3.7.1) (8.1.8)\n",
            "Requirement already satisfied: shellingham>=1.3.0 in /usr/local/lib/python3.11/dist-packages (from typer<1.0.0,>=0.3.0->spacy<3.8.0,>=3.7.2->en-core-web-md==3.7.1) (1.5.4)\n",
            "Requirement already satisfied: rich>=10.11.0 in /usr/local/lib/python3.11/dist-packages (from typer<1.0.0,>=0.3.0->spacy<3.8.0,>=3.7.2->en-core-web-md==3.7.1) (13.9.4)\n",
            "Requirement already satisfied: cloudpathlib<1.0.0,>=0.7.0 in /usr/local/lib/python3.11/dist-packages (from weasel<0.5.0,>=0.1.0->spacy<3.8.0,>=3.7.2->en-core-web-md==3.7.1) (0.20.0)\n",
            "Requirement already satisfied: smart-open<8.0.0,>=5.2.1 in /usr/local/lib/python3.11/dist-packages (from weasel<0.5.0,>=0.1.0->spacy<3.8.0,>=3.7.2->en-core-web-md==3.7.1) (7.1.0)\n",
            "Requirement already satisfied: MarkupSafe>=2.0 in /usr/local/lib/python3.11/dist-packages (from jinja2->spacy<3.8.0,>=3.7.2->en-core-web-md==3.7.1) (3.0.2)\n",
            "Requirement already satisfied: marisa-trie>=1.1.0 in /usr/local/lib/python3.11/dist-packages (from language-data>=1.2->langcodes<4.0.0,>=3.2.0->spacy<3.8.0,>=3.7.2->en-core-web-md==3.7.1) (1.2.1)\n",
            "Requirement already satisfied: markdown-it-py>=2.2.0 in /usr/local/lib/python3.11/dist-packages (from rich>=10.11.0->typer<1.0.0,>=0.3.0->spacy<3.8.0,>=3.7.2->en-core-web-md==3.7.1) (3.0.0)\n",
            "Requirement already satisfied: pygments<3.0.0,>=2.13.0 in /usr/local/lib/python3.11/dist-packages (from rich>=10.11.0->typer<1.0.0,>=0.3.0->spacy<3.8.0,>=3.7.2->en-core-web-md==3.7.1) (2.18.0)\n",
            "Requirement already satisfied: wrapt in /usr/local/lib/python3.11/dist-packages (from smart-open<8.0.0,>=5.2.1->weasel<0.5.0,>=0.1.0->spacy<3.8.0,>=3.7.2->en-core-web-md==3.7.1) (1.17.2)\n",
            "Requirement already satisfied: mdurl~=0.1 in /usr/local/lib/python3.11/dist-packages (from markdown-it-py>=2.2.0->rich>=10.11.0->typer<1.0.0,>=0.3.0->spacy<3.8.0,>=3.7.2->en-core-web-md==3.7.1) (0.1.2)\n",
            "Installing collected packages: en-core-web-md\n",
            "Successfully installed en-core-web-md-3.7.1\n",
            "\u001b[38;5;2m✔ Download and installation successful\u001b[0m\n",
            "You can now load the package via spacy.load('en_core_web_md')\n",
            "\u001b[38;5;3m⚠ Restart to reload dependencies\u001b[0m\n",
            "If you are in a Jupyter or Colab notebook, you may need to restart Python in\n",
            "order to load all the package's dependencies. You can do this by selecting the\n",
            "'Restart kernel' or 'Restart runtime' option.\n"
          ]
        }
      ],
      "source": [
        "!pip install spacy\n",
        "!python -m spacy download en_core_web_md\n"
      ]
    },
    {
      "cell_type": "code",
      "execution_count": null,
      "id": "0bfa90ae-f7c8-4781-90a3-7cf6eaa9b5bf",
      "metadata": {
        "id": "0bfa90ae-f7c8-4781-90a3-7cf6eaa9b5bf"
      },
      "outputs": [],
      "source": [
        "import re\n",
        "import spacy\n",
        "import pandas as pd\n",
        "import numpy as np"
      ]
    },
    {
      "cell_type": "code",
      "execution_count": null,
      "id": "15505199-580e-4057-b863-72c3aa322ed5",
      "metadata": {
        "id": "15505199-580e-4057-b863-72c3aa322ed5"
      },
      "outputs": [],
      "source": [
        "nlp = spacy.load(\"en_core_web_md\")\n",
        "\n",
        "# Define keywords for categorization\n",
        "\n",
        "product_keywords = [\n",
        "    # Kirkland Signature Products\n",
        "    \"kirkland\", \"kirkland signature\", \"kirkland water\", \"kirkland shampoo\", \"kirkland conditioner\",\n",
        "    \"kirkland dog treats\", \"kirkland diapers\", \"kirkland protein bars\", \"kirkland almond milk\",\n",
        "    \"kirkland chocolate\", \"kirkland peanut butter\", \"kirkland sparkling wine\", \"kirkland beer\",\n",
        "\n",
        "    # Electronics & Appliances\n",
        "    \"smart tv\", \"gaming laptop\", \"desktop computer\", \"wireless earbuds\", \"bluetooth speaker\",\n",
        "    \"4k tv\", \"oled tv\", \"gaming pc\", \"wifi router\", \"hard drive\", \"ssd\", \"fitness tracker\",\n",
        "    \"keurig\", \"instant pot\", \"air fryer\", \"vacuum cleaner\", \"robot vacuum\", \"home theater\",\n",
        "\n",
        "    # Food & Grocery\n",
        "    \"organic produce\", \"costco pizza\", \"costco muffins\", \"rotisserie chicken\", \"plant-based\",\n",
        "    \"vegan snacks\", \"gluten-free\", \"cold cuts\", \"frozen meals\", \"energy drinks\", \"costco pies\",\n",
        "    \"kirkland ice cream\", \"pasta sauce\", \"granola\", \"nut butter\", \"trail mix\", \"frozen desserts\",\n",
        "\n",
        "    # Furniture & Home\n",
        "    \"living room set\", \"coffee table\", \"bar stools\", \"sectional sofa\", \"ottoman\", \"kitchen island\",\n",
        "    \"costco mattresses\", \"adjustable bed\", \"bunk bed\", \"outdoor furniture\", \"patio umbrella\",\n",
        "    \"garden decor\", \"lighting fixtures\", \"home organization\", \"storage bins\", \"closet organizers\",\n",
        "\n",
        "    # Clothing & Apparel\n",
        "    \"activewear\", \"sneakers\", \"boots\", \"winter jackets\", \"raincoat\", \"sports bras\", \"base layers\",\n",
        "    \"costco jeans\", \"costco socks\", \"swim trunks\", \"beachwear\", \"costco hats\", \"scarves\", \"gloves\",\n",
        "\n",
        "    # Health & Wellness\n",
        "    \"immune support\", \"probiotics\", \"vitamin c\", \"collagen\", \"fish oil\", \"protein shakes\",\n",
        "    \"kirkland vitamins\", \"essential oils\", \"sleep aids\", \"pain relief\", \"costco pharmacy rx\",\n",
        "    \"hand sanitizing wipes\", \"home medical devices\", \"hearing aid batteries\", \"compression socks\",\n",
        "\n",
        "    # Household & Cleaning\n",
        "    \"all-purpose cleaner\", \"window cleaner\", \"vacuum bags\", \"dryer sheets\", \"costco mop\",\n",
        "    \"swiffer\", \"garbage disposal\", \"air freshener spray\", \"costco bleach\", \"antibacterial wipes\",\n",
        "    \"rechargeable batteries\", \"led bulbs\", \"smart home devices\", \"air filters\", \"costco solar lights\",\n",
        "\n",
        "    # Outdoor & Auto\n",
        "    \"snow tires\", \"all-season tires\", \"grilling accessories\", \"propane tanks\", \"outdoor heaters\",\n",
        "    \"garden tools\", \"lawn chairs\", \"hammock\", \"camping tents\", \"sleeping bags\", \"portable cooler\",\n",
        "    \"electric scooter\", \"bike accessories\", \"outdoor speakers\", \"costco kayaks\", \"golf equipment\",\n",
        "    \"pool supplies\", \"garden hose\", \"power tools\"\n",
        "]\n",
        "\n",
        "\n",
        "service_keywords = [\n",
        "    # Membership & Policies\n",
        "    \"executive member\", \"gold star membership\", \"auto renewal\", \"membership refund\",\n",
        "    \"corporate membership\", \"membership benefits\", \"price guarantee\", \"product recall\",\n",
        "    \"membership downgrade\", \"student discount\", \"military discount\",\n",
        "\n",
        "    # Customer Experience\n",
        "    \"friendly staff\", \"customer satisfaction\", \"waiting time\", \"self-checkout\",\n",
        "    \"greeter\", \"in-store experience\", \"costco support\", \"feedback\", \"customer feedback\",\n",
        "    \"store layout\", \"crowd management\", \"complaint resolution\", \"in-store wifi\", \"cleanliness\",\n",
        "\n",
        "    # Online Shopping & Delivery\n",
        "    \"express delivery\", \"membership online\", \"order history\", \"subscription services\",\n",
        "    \"auto-ship\", \"product availability\", \"out of stock\", \"online chat support\",\n",
        "    \"costco digital\", \"home delivery\", \"scheduled delivery\", \"delivery slots\",\n",
        "    \"shipping policy\", \"refund status\",\n",
        "\n",
        "    # Pricing & Discounts\n",
        "    \"seasonal sale\", \"holiday deals\", \"weekly specials\", \"employee discount\",\n",
        "    \"bundle offers\", \"buy one get one\", \"cashback rewards\", \"reward points\", \"gift voucher\",\n",
        "    \"sale event\", \"exclusive discount\", \"birthday rewards\", \"anniversary offer\",\n",
        "\n",
        "    # Costco Travel & Financial Services\n",
        "    \"vacation packages\", \"flight discounts\", \"travel insurance policy\", \"roadside assistance\",\n",
        "    \"travel booking\", \"travel refund\", \"costco visa cashback\", \"auto insurance\",\n",
        "    \"credit card rewards\", \"personal loan\", \"home insurance\", \"costco mortgage\",\n",
        "\n",
        "    # Gas Station & Automotive Services\n",
        "    \"fuel efficiency\", \"premium fuel\", \"diesel\", \"car tire installation\", \"alignment check\",\n",
        "    \"emission testing\", \"car battery\", \"brake service\", \"oil filter\", \"auto parts\",\n",
        "    \"road trip essentials\", \"car cleaning products\", \"engine diagnostic\", \"windshield wipers\"\n",
        "]\n",
        "\n",
        "\n",
        "#product_keywords = [\"kirkland\", \"laptop\", \"pizza\", \"wine\", \"electronics\", \"furniture\", \"tvs\", \"groceries\", \"clothing\"]\n",
        "#service_keywords = [\"membership\", \"customer service\", \"refund\", \"return policy\", \"delivery\", \"checkout\", \"discounts\"]\n",
        "\n",
        "# Path to the combined cleaned dataset\n",
        "cleaned_file_path = \"/content/sample_data/cleaned_combined_reddit_costco_data.csv\"\n"
      ]
    },
    {
      "cell_type": "code",
      "execution_count": null,
      "id": "8265d8b6-90f7-4176-a58f-b1a838355167",
      "metadata": {
        "id": "8265d8b6-90f7-4176-a58f-b1a838355167"
      },
      "outputs": [],
      "source": [
        "def semantic_similarity(text, keywords):\n",
        "    \"\"\"\n",
        "    Computes similarity score between a text and category keywords using SpaCy word embeddings.\n",
        "    Handles empty vectors to avoid warnings.\n",
        "    \"\"\"\n",
        "    if not text.strip():\n",
        "        return 0\n",
        "\n",
        "    doc = nlp(text)\n",
        "\n",
        "    similarities = []\n",
        "    for word in keywords:\n",
        "        word_doc = nlp(word)\n",
        "        if doc.has_vector and word_doc.has_vector:\n",
        "            similarities.append(doc.similarity(word_doc))\n",
        "\n",
        "    return max(similarities) if similarities else 0\n",
        "\n",
        "\n",
        "def categorize_post(post_title, comment_body):\n",
        "    \"\"\"\n",
        "    Categorizes the post as 'Product', 'Service', or 'General Discussion' based on keywords & semantic similarity.\n",
        "    \"\"\"\n",
        "    text = f\"{post_title} {comment_body}\".lower()\n",
        "\n",
        "    if any(re.search(rf\"\\b{kw}\\b\", text) for kw in product_keywords):\n",
        "        return \"Product\"\n",
        "    if any(re.search(rf\"\\b{kw}\\b\", text) for kw in service_keywords):\n",
        "        return \"Service\"\n",
        "\n",
        "    # Step 2: Semantic Similarity (Threshold: 0.7)\n",
        "    product_similarity = semantic_similarity(text, product_keywords)\n",
        "    service_similarity = semantic_similarity(text, service_keywords)\n",
        "\n",
        "    if product_similarity > 0.7:\n",
        "        return \"Product\"\n",
        "    elif service_similarity > 0.7:\n",
        "        return \"Service\"\n",
        "\n",
        "    return \"General Discussion\"\n"
      ]
    },
    {
      "cell_type": "code",
      "execution_count": null,
      "id": "bec4c42c-5b12-472e-9eb8-285d864d5380",
      "metadata": {
        "id": "bec4c42c-5b12-472e-9eb8-285d864d5380"
      },
      "outputs": [],
      "source": [
        "df = pd.read_csv(cleaned_file_path)\n",
        "\n",
        "df[\"post_title\"] = df[\"post_title\"].fillna(\"\")\n",
        "df[\"comment_body\"] = df[\"comment_body\"].fillna(\"\")\n",
        "\n",
        "df[\"category\"] = df.apply(lambda row: categorize_post(row[\"post_title\"], row[\"comment_body\"]), axis=1)\n",
        "\n"
      ]
    },
    {
      "cell_type": "code",
      "execution_count": null,
      "id": "2aba51c1-3d73-45d7-a484-82b87539a470",
      "metadata": {
        "id": "2aba51c1-3d73-45d7-a484-82b87539a470"
      },
      "outputs": [],
      "source": [
        "# Save categorized dataset\n",
        "categorized_file_path = \"/content/sample_data/categorized_reddit_costco_data.csv\"\n",
        "df.to_csv(categorized_file_path, index=False)\n",
        "\n",
        "print(f\"Data categorization completed. Categorized data saved to {categorized_file_path}\")\n",
        "print(df[\"category\"].value_counts())"
      ]
    },
    {
      "cell_type": "code",
      "execution_count": null,
      "id": "1cd56087-412b-4a85-a5c2-8de5105cf5cd",
      "metadata": {
        "id": "1cd56087-412b-4a85-a5c2-8de5105cf5cd"
      },
      "outputs": [],
      "source": []
    },
    {
      "cell_type": "code",
      "execution_count": null,
      "id": "ESrgOlg6G7zG",
      "metadata": {
        "id": "ESrgOlg6G7zG"
      },
      "outputs": [],
      "source": [
        "## Categorization method 2."
      ]
    },
    {
      "cell_type": "code",
      "execution_count": null,
      "id": "E5LgOotWG-98",
      "metadata": {
        "id": "E5LgOotWG-98"
      },
      "outputs": [],
      "source": [
        "import re\n",
        "import spacy\n",
        "import pandas as pd\n",
        "import numpy as np"
      ]
    },
    {
      "cell_type": "code",
      "execution_count": null,
      "id": "kNhNNs6_G_KM",
      "metadata": {
        "id": "kNhNNs6_G_KM"
      },
      "outputs": [],
      "source": [
        "nlp = spacy.load(\"en_core_web_md\")\n",
        "\n",
        "product_keywords = [\n",
        "    # Kirkland Signature Products\n",
        "    \"kirkland\", \"kirkland signature\", \"kirkland water\", \"kirkland shampoo\", \"kirkland conditioner\",\n",
        "    \"kirkland dog treats\", \"kirkland diapers\", \"kirkland protein bars\", \"kirkland almond milk\",\n",
        "    \"kirkland chocolate\", \"kirkland peanut butter\", \"kirkland sparkling wine\", \"kirkland beer\",\n",
        "\n",
        "    # Electronics & Appliances\n",
        "    \"smart tv\", \"gaming laptop\", \"desktop computer\", \"wireless earbuds\", \"bluetooth speaker\",\n",
        "    \"4k tv\", \"oled tv\", \"gaming pc\", \"wifi router\", \"hard drive\", \"ssd\", \"fitness tracker\",\n",
        "    \"keurig\", \"instant pot\", \"air fryer\", \"vacuum cleaner\", \"robot vacuum\", \"home theater\",\n",
        "\n",
        "    # Food & Grocery\n",
        "    \"organic produce\", \"costco pizza\", \"costco muffins\", \"rotisserie chicken\", \"plant-based\",\n",
        "    \"vegan snacks\", \"gluten-free\", \"cold cuts\", \"frozen meals\", \"energy drinks\", \"costco pies\",\n",
        "    \"kirkland ice cream\", \"pasta sauce\", \"granola\", \"nut butter\", \"trail mix\", \"frozen desserts\",\n",
        "\n",
        "    # Furniture & Home\n",
        "    \"living room set\", \"coffee table\", \"bar stools\", \"sectional sofa\", \"ottoman\", \"kitchen island\",\n",
        "    \"costco mattresses\", \"adjustable bed\", \"bunk bed\", \"outdoor furniture\", \"patio umbrella\",\n",
        "    \"garden decor\", \"lighting fixtures\", \"home organization\", \"storage bins\", \"closet organizers\",\n",
        "\n",
        "    # Clothing & Apparel\n",
        "    \"activewear\", \"sneakers\", \"boots\", \"winter jackets\", \"raincoat\", \"sports bras\", \"base layers\",\n",
        "    \"costco jeans\", \"costco socks\", \"swim trunks\", \"beachwear\", \"costco hats\", \"scarves\", \"gloves\",\n",
        "\n",
        "    # Health & Wellness\n",
        "    \"immune support\", \"probiotics\", \"vitamin c\", \"collagen\", \"fish oil\", \"protein shakes\",\n",
        "    \"kirkland vitamins\", \"essential oils\", \"sleep aids\", \"pain relief\", \"costco pharmacy rx\",\n",
        "    \"hand sanitizing wipes\", \"home medical devices\", \"hearing aid batteries\", \"compression socks\",\n",
        "\n",
        "    # Household & Cleaning\n",
        "    \"all-purpose cleaner\", \"window cleaner\", \"vacuum bags\", \"dryer sheets\", \"costco mop\",\n",
        "    \"swiffer\", \"garbage disposal\", \"air freshener spray\", \"costco bleach\", \"antibacterial wipes\",\n",
        "    \"rechargeable batteries\", \"led bulbs\", \"smart home devices\", \"air filters\", \"costco solar lights\",\n",
        "\n",
        "    # Outdoor & Auto\n",
        "    \"snow tires\", \"all-season tires\", \"grilling accessories\", \"propane tanks\", \"outdoor heaters\",\n",
        "    \"garden tools\", \"lawn chairs\", \"hammock\", \"camping tents\", \"sleeping bags\", \"portable cooler\",\n",
        "    \"electric scooter\", \"bike accessories\", \"outdoor speakers\", \"costco kayaks\", \"golf equipment\",\n",
        "    \"pool supplies\", \"garden hose\", \"power tools\"\n",
        "]\n",
        "\n",
        "\n",
        "service_keywords = [\n",
        "    # Membership & Policies\n",
        "    \"executive member\", \"gold star membership\", \"auto renewal\", \"membership refund\",\n",
        "    \"corporate membership\", \"membership benefits\", \"price guarantee\", \"product recall\",\n",
        "    \"membership downgrade\", \"student discount\", \"military discount\",\n",
        "\n",
        "    # Customer Experience\n",
        "    \"friendly staff\", \"customer satisfaction\", \"waiting time\", \"self-checkout\",\n",
        "    \"greeter\", \"in-store experience\", \"costco support\", \"feedback\", \"customer feedback\",\n",
        "    \"store layout\", \"crowd management\", \"complaint resolution\", \"in-store wifi\", \"cleanliness\",\n",
        "\n",
        "    # Online Shopping & Delivery\n",
        "    \"express delivery\", \"membership online\", \"order history\", \"subscription services\",\n",
        "    \"auto-ship\", \"product availability\", \"out of stock\", \"online chat support\",\n",
        "    \"costco digital\", \"home delivery\", \"scheduled delivery\", \"delivery slots\",\n",
        "    \"shipping policy\", \"refund status\",\n",
        "\n",
        "    # Pricing & Discounts\n",
        "    \"seasonal sale\", \"holiday deals\", \"weekly specials\", \"employee discount\",\n",
        "    \"bundle offers\", \"buy one get one\", \"cashback rewards\", \"reward points\", \"gift voucher\",\n",
        "    \"sale event\", \"exclusive discount\", \"birthday rewards\", \"anniversary offer\",\n",
        "\n",
        "    # Costco Travel & Financial Services\n",
        "    \"vacation packages\", \"flight discounts\", \"travel insurance policy\", \"roadside assistance\",\n",
        "    \"travel booking\", \"travel refund\", \"costco visa cashback\", \"auto insurance\",\n",
        "    \"credit card rewards\", \"personal loan\", \"home insurance\", \"costco mortgage\",\n",
        "\n",
        "    # Gas Station & Automotive Services\n",
        "    \"fuel efficiency\", \"premium fuel\", \"diesel\", \"car tire installation\", \"alignment check\",\n",
        "    \"emission testing\", \"car battery\", \"brake service\", \"oil filter\", \"auto parts\",\n",
        "    \"road trip essentials\", \"car cleaning products\", \"engine diagnostic\", \"windshield wipers\"\n",
        "]\n"
      ]
    },
    {
      "cell_type": "code",
      "execution_count": null,
      "id": "hryBri20HPve",
      "metadata": {
        "id": "hryBri20HPve"
      },
      "outputs": [],
      "source": [
        "cleaned_file_path = \"/content/sample_data/cleaned_combined_reddit_costco_data.csv\"\n",
        "\n",
        "def semantic_similarity(text, keyword_vectors):\n",
        "    \"\"\"\n",
        "    Computes similarity score between a text and precomputed keyword vectors using SpaCy word embeddings.\n",
        "    \"\"\"\n",
        "    if not text.strip():\n",
        "        return 0\n",
        "\n",
        "    doc = nlp(text)\n",
        "    similarities = [doc.similarity(kw_vector) for kw_vector in keyword_vectors if kw_vector.has_vector]\n",
        "    return max(similarities) if similarities else 0\n",
        "\n",
        "def keyword_partial_match(text, keywords):\n",
        "    \"\"\"\n",
        "    Checks if any individual word from multi-word keywords appears in the text.\n",
        "    \"\"\"\n",
        "    text_words = set(re.findall(r'\\b\\w+\\b', text))\n",
        "    for kw in keywords:\n",
        "        kw_words = set(kw.split())  # Split multi-word keywords into individual words\n",
        "        if kw_words & text_words:  # Check if there's an intersection between keyword words and text words\n",
        "            return True\n",
        "    return False\n",
        "\n",
        "def categorize_post(post_title, comment_body, product_vectors, service_vectors):\n",
        "    \"\"\"\n",
        "    Categorizes the post as 'Product', 'Service', or 'General Discussion' based on keywords & semantic similarity.\n",
        "    \"\"\"\n",
        "    text = f\"{post_title} {comment_body}\".lower()\n",
        "\n",
        "    # Step 1: Keyword Matching (Exact or Partial)\n",
        "    if keyword_partial_match(text, product_keywords):\n",
        "        return \"Product\"\n",
        "    if keyword_partial_match(text, service_keywords):\n",
        "        return \"Service\"\n",
        "\n",
        "    # Step 2: Semantic Similarity (Threshold: 0.7)\n",
        "    product_similarity = semantic_similarity(text, product_vectors)\n",
        "    service_similarity = semantic_similarity(text, service_vectors)\n",
        "\n",
        "    if product_similarity > 0.7:\n",
        "        return \"Product\"\n",
        "    elif service_similarity > 0.7:\n",
        "        return \"Service\"\n",
        "\n",
        "    return \"General Discussion\"\n",
        "\n",
        "# Precompute keyword vectors\n",
        "product_vectors = [nlp(kw) for kw in product_keywords]\n",
        "service_vectors = [nlp(kw) for kw in service_keywords]"
      ]
    },
    {
      "cell_type": "code",
      "execution_count": null,
      "id": "pX-0t-TPHnxP",
      "metadata": {
        "colab": {
          "base_uri": "https://localhost:8080/"
        },
        "id": "pX-0t-TPHnxP",
        "outputId": "7570228c-a96b-4fc1-8d90-1e3ac32e18ad"
      },
      "outputs": [
        {
          "name": "stdout",
          "output_type": "stream",
          "text": [
            "Data categorization completed. Categorized data saved to /content/sample_data/categorized_reddit_costco_data.csv\n",
            "category\n",
            "General Discussion    2560\n",
            "Product                645\n",
            "Service                537\n",
            "Name: count, dtype: int64\n"
          ]
        }
      ],
      "source": [
        "df = pd.read_csv(cleaned_file_path)\n",
        "\n",
        "# Fill NaN values in text columns\n",
        "df[\"post_title\"] = df[\"post_title\"].fillna(\"\")\n",
        "df[\"comment_body\"] = df[\"comment_body\"].fillna(\"\")\n",
        "\n",
        "# Apply categorization function\n",
        "df[\"category\"] = df.apply(lambda row: categorize_post(row[\"post_title\"], row[\"comment_body\"], product_vectors, service_vectors), axis=1)\n",
        "\n",
        "# Save categorized dataset\n",
        "categorized_file_path = \"/content/sample_data/categorized_reddit_costco_data.csv\"\n",
        "df.to_csv(categorized_file_path, index=False)\n",
        "\n",
        "# Print category distribution\n",
        "print(f\"Data categorization completed. Categorized data saved to {categorized_file_path}\")\n",
        "print(df[\"category\"].value_counts())"
      ]
    },
    {
      "cell_type": "code",
      "execution_count": null,
      "id": "KysHcI68Met6",
      "metadata": {
        "id": "KysHcI68Met6"
      },
      "outputs": [],
      "source": []
    }
  ],
  "metadata": {
    "accelerator": "GPU",
    "colab": {
      "gpuType": "A100",
      "machine_shape": "hm",
      "provenance": []
    },
    "kernelspec": {
      "display_name": "Python 3",
      "name": "python3"
    },
    "language_info": {
      "codemirror_mode": {
        "name": "ipython",
        "version": 3
      },
      "file_extension": ".py",
      "mimetype": "text/x-python",
      "name": "python",
      "nbconvert_exporter": "python",
      "pygments_lexer": "ipython3",
      "version": "3.12.0"
    }
  },
  "nbformat": 4,
  "nbformat_minor": 5
}